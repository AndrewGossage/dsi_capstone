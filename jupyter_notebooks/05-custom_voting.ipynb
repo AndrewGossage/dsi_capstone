{
 "cells": [
  {
   "cell_type": "code",
   "execution_count": 12,
   "id": "87d7d3bf-fce5-4c0b-8ba7-4c0e88e9369f",
   "metadata": {},
   "outputs": [],
   "source": [
    "import sys\n",
    "sys.path.append('../cpp_code')\n",
    "import cgoss\n",
    "from sklearn.linear_model import LogisticRegression\n",
    "import numpy as np"
   ]
  },
  {
   "cell_type": "code",
   "execution_count": 2,
   "id": "68cc956c-b08e-493c-b2de-0dddaad1345b",
   "metadata": {},
   "outputs": [],
   "source": [
    "import dill\n",
    "import pickle\n",
    "import matplotlib.pyplot as plt\n",
    "import xgboost as xgb\n",
    "from sklearn.ensemble import ExtraTreesClassifier\n",
    "from sklearn.model_selection import GridSearchCV\n",
    "from sklearn.preprocessing import PolynomialFeatures\n",
    "from sklearn import metrics\n",
    "logreg = LogisticRegression()\n",
    "\"sklearn\" in str(type(logreg))\n",
    "from sklearn.neighbors import KNeighborsClassifier"
   ]
  },
  {
   "cell_type": "code",
   "execution_count": 3,
   "id": "a9fef205-814d-47c1-9fec-a924243f158e",
   "metadata": {},
   "outputs": [],
   "source": [
    "import warnings\n",
    "warnings.filterwarnings(\"ignore\")"
   ]
  },
  {
   "cell_type": "code",
   "execution_count": 20,
   "id": "c9d1a7cd-5290-4897-bf5f-70639a16eff9",
   "metadata": {},
   "outputs": [],
   "source": [
    "class Voter:\n",
    "    \"\"\"A customer ensemble voting classifier\"\"\"\n",
    "    def __init__(self, models, pf = None ):\n",
    "        self.delimiter = .5\n",
    "        self.models = models\n",
    "        self.pf = pf\n",
    "        \n",
    "    def predict_proba_soft(self, x):\n",
    "        import sys\n",
    "        sys.path.append('../cpp_code')\n",
    "        import cgoss\n",
    "        import xgboost as xgb\n",
    "        from sklearn.ensemble import ExtraTreesClassifier\n",
    "        from sklearn.model_selection import GridSearchCV\n",
    "        from sklearn.preprocessing import PolynomialFeatures\n",
    "        from sklearn.linear_model import LogisticRegression\n",
    "        probas = []\n",
    "        for line in x:\n",
    "            prob = self.delimiter\n",
    "            base = 0.5\n",
    "            for m in self.models:\n",
    "\n",
    "                if \"sklearn\" in str(type(m)) and ('KNeighborsClassifier' not in str(type(m)) and 'Extra' not in str(type(m)) ):\n",
    "                    if len(m.coef_[0]) > len (line):\n",
    "                        l = self.pf.transform(line.reshape(1, -1))\n",
    "                        pred =  m.predict_proba(l)[0][1]\n",
    "                        prob = cgoss.max_distance(prob, pred, self.delimiter)\n",
    "                    else:\n",
    "                        pred =  m.predict_proba(line.reshape(1, -1))[0][1]\n",
    "                        prob = cgoss.max_distance(prob, pred, self.delimiter)\n",
    "                elif \"GridSearchCV\" in str(type(m)): \n",
    "                    pred =  m.predict_proba(line.reshape(1, -1))[0][1]\n",
    "                    prob = cgoss.max_distance(prob, pred, self.delimiter)    \n",
    "                \n",
    "                elif \"xgboost\" in str(type(m)):\n",
    "                    D = xgb.DMatrix(line.reshape(1, -1))\n",
    "                    pred =  cgoss.scale_confidence(m.predict(D), .0)\n",
    "                    prob = cgoss.max_distance(prob, pred, self.delimiter)\n",
    "                elif \"Extra\" in str(type(m)):\n",
    "                    pred =  cgoss.scale_confidence(m.predict(line.reshape(1,-1)), .0)\n",
    "                    prob = cgoss.max_distance(prob, pred, self.delimiter)\n",
    "                else:\n",
    "                    pred =  m.predict(line.reshape(1,-1))\n",
    "                    prob = cgoss.max_distance(prob, pred, self.delimiter)\n",
    "            probas.append(prob)\n",
    "        return probas \n",
    "\n"
   ]
  },
  {
   "cell_type": "code",
   "execution_count": null,
   "id": "1c889556-3c1a-485d-ae95-28797c195577",
   "metadata": {},
   "outputs": [],
   "source": []
  },
  {
   "cell_type": "code",
   "execution_count": 5,
   "id": "663182e9-facb-4630-a302-f98a777b639f",
   "metadata": {},
   "outputs": [
    {
     "data": {
      "text/plain": [
       "<sklearn.metrics._plot.confusion_matrix.ConfusionMatrixDisplay at 0x7f1008fda8e0>"
      ]
     },
     "execution_count": 5,
     "metadata": {},
     "output_type": "execute_result"
    },
    {
     "data": {
      "image/png": "[encoded data removed]",
      "text/plain": [
       "<Figure size 432x288 with 2 Axes>"
      ]
     },
     "metadata": {
      "needs_background": "light"
     },
     "output_type": "display_data"
    }
   ],
   "source": [
    "with open('../pickles/train_test_rs.pkl', 'rb') as pickle_in:\n",
    "    X_train, X_test, y_train, y_test = pickle.load(pickle_in)\n",
    "with open('../pickles/gs.pkl', 'rb') as pickle_in:\n",
    "    gs = pickle.load(pickle_in)    \n",
    "\n",
    "logreg2 = LogisticRegression(C=0.5,)    \n",
    "pf = PolynomialFeatures(3)\n",
    "X_tr = pf.fit_transform(X_train)\n",
    "X_te= pf.transform(X_test)\n",
    "logreg2.fit(X_tr, y_train)\n",
    "metrics.plot_confusion_matrix(logreg2, X_te, y_test)"
   ]
  },
  {
   "cell_type": "code",
   "execution_count": 6,
   "id": "6bbcbb6f-b798-4eac-82d5-ab39070635cd",
   "metadata": {},
   "outputs": [
    {
     "name": "stdout",
     "output_type": "stream",
     "text": [
      "0.6814701378254211 0.7700810611643331\n",
      "0.6078431372549019 0.8041958041958042\n"
     ]
    },
    {
     "data": {
      "image/png": "[encoded data removed]",
      "text/plain": [
       "<Figure size 432x288 with 2 Axes>"
      ]
     },
     "metadata": {
      "needs_background": "light"
     },
     "output_type": "display_data"
    }
   ],
   "source": [
    "xt = ExtraTreesClassifier(min_impurity_decrease=.001, min_samples_leaf=100, random_state=60, max_depth=4, bootstrap=True)\n",
    "xt.fit(X_train, y_train)\n",
    "print(metrics.recall_score(y_train, xt.predict(X_train)), metrics.accuracy_score(y_train, xt.predict(X_train)))\n",
    "print(metrics.recall_score(y_test, xt.predict(X_test)), metrics.accuracy_score(y_test, xt.predict(X_test)))\n",
    "metrics.plot_confusion_matrix(xt, X_test, y_test)\n",
    "plt.title(\"Extra Trees\")\n",
    "plt.savefig('../output/xt.png')"
   ]
  },
  {
   "cell_type": "code",
   "execution_count": 7,
   "id": "10a8c82e-1517-4973-8359-c194e7f68477",
   "metadata": {},
   "outputs": [
    {
     "name": "stdout",
     "output_type": "stream",
     "text": [
      "1.0 1.0\n",
      "0.5294117647058824 0.7447552447552448\n"
     ]
    },
    {
     "data": {
      "image/png": "[encoded data removed]",
      "text/plain": [
       "<Figure size 432x288 with 2 Axes>"
      ]
     },
     "metadata": {
      "needs_background": "light"
     },
     "output_type": "display_data"
    }
   ],
   "source": [
    "knn = KNeighborsClassifier(n_neighbors = 100, weights = 'distance')\n",
    "knn.fit(X_train, y_train)\n",
    "metrics.plot_confusion_matrix(knn, X_test, y_test)\n",
    "print(metrics.recall_score(y_train, knn.predict(X_train)), metrics.accuracy_score(y_train, knn.predict(X_train)))\n",
    "print(metrics.recall_score(y_test, knn.predict(X_test)), metrics.accuracy_score(y_test, knn.predict(X_test)))\n",
    "plt.title(\"KNearest Neighbors\")\n",
    "plt.savefig('../output/knn.png')"
   ]
  },
  {
   "cell_type": "code",
   "execution_count": null,
   "id": "886b9817-11ce-4a49-8ccb-ff4937730d5d",
   "metadata": {},
   "outputs": [],
   "source": []
  },
  {
   "cell_type": "code",
   "execution_count": 21,
   "id": "35a3aabe-34d5-44be-bb68-4c033809d416",
   "metadata": {},
   "outputs": [
    {
     "name": "stdout",
     "output_type": "stream",
     "text": [
      "0.774885145482389 0.8054532056005895\n",
      "0.7254901960784313 0.7657342657342657\n"
     ]
    },
    {
     "data": {
      "image/png": "[encoded data removed]",
      "text/plain": [
       "<Figure size 432x288 with 2 Axes>"
      ]
     },
     "metadata": {
      "needs_background": "light"
     },
     "output_type": "display_data"
    }
   ],
   "source": [
    "\n",
    "    \n",
    "logreg =LogisticRegression()\n",
    "param = {'max_depth': 2, }\n",
    "    \n",
    "D_train = xgb.DMatrix(X_train, label=y_train)\n",
    "bst = xgb.train(param, D_train)\n",
    "logreg.fit(X_train, y_train)\n",
    "voter = Voter([ logreg, bst])\n",
    "vpreds = voter.predict_proba_soft(X_test)\n",
    "filt = 0.5\n",
    "vpreds =[ 1 if i > filt else 0 for i in  vpreds]\n",
    "con  = metrics.confusion_matrix(y_test, vpreds)\n",
    "metrics.ConfusionMatrixDisplay(con).plot();\n",
    "vpreds = voter.predict_proba_soft(X_train)\n",
    "filt = 0.5\n",
    "vpreds =[ 1 if i > filt else 0 for i in  vpreds]\n",
    "print(metrics.recall_score(y_train, vpreds), metrics.accuracy_score(y_train, vpreds))\n",
    "vpreds = voter.predict_proba_soft(X_test)\n",
    "filt = 0.5\n",
    "vpreds =[ 1 if i > filt else 0 for i in  vpreds]\n",
    "print(metrics.recall_score(y_test, vpreds), metrics.accuracy_score(y_test, vpreds))\n",
    "plt.title(\"Custom Voting Logreg + XGBoost\")\n",
    "plt.savefig('../output/logreg-xgb.png')"
   ]
  },
  {
   "cell_type": "code",
   "execution_count": 9,
   "id": "a0902e76-d36c-4f0f-a11b-0654576b8381",
   "metadata": {},
   "outputs": [
    {
     "data": {
      "image/png": "[encoded data removed]",
      "text/plain": [
       "<Figure size 432x288 with 2 Axes>"
      ]
     },
     "metadata": {
      "needs_background": "light"
     },
     "output_type": "display_data"
    }
   ],
   "source": [
    "D = xgb.DMatrix(X_test)\n",
    "pred =  bst.predict(D)\n",
    "filt = 0.5\n",
    "pred =[ 1 if i > filt else 0 for i in  pred]\n",
    "con  = metrics.confusion_matrix(y_test, pred)\n",
    "metrics.ConfusionMatrixDisplay(con).plot();\n"
   ]
  },
  {
   "cell_type": "code",
   "execution_count": 10,
   "id": "4a46e9f6-971c-4aee-ae57-87d5aecec3d8",
   "metadata": {},
   "outputs": [
    {
     "data": {
      "text/plain": [
       "<sklearn.metrics._plot.confusion_matrix.ConfusionMatrixDisplay at 0x7f100124cfd0>"
      ]
     },
     "execution_count": 10,
     "metadata": {},
     "output_type": "execute_result"
    },
    {
     "data": {
      "image/png": "[encoded data removed]",
      "text/plain": [
       "<Figure size 432x288 with 2 Axes>"
      ]
     },
     "metadata": {
      "needs_background": "light"
     },
     "output_type": "display_data"
    }
   ],
   "source": [
    "metrics.plot_confusion_matrix(logreg, X_test, y_test)"
   ]
  },
  {
   "cell_type": "code",
   "execution_count": 22,
   "id": "e9fca97b-ddd4-4787-bbf6-b4dcde89c043",
   "metadata": {},
   "outputs": [],
   "source": [
    "with open('../pickles/voter.pkl', 'wb') as pickle_out:\n",
    "    dill.dump(voter, pickle_out)"
   ]
  },
  {
   "cell_type": "code",
   "execution_count": null,
   "id": "fc166d44-bf47-424c-a906-8c2eeede0b9e",
   "metadata": {},
   "outputs": [],
   "source": []
  },
  {
   "cell_type": "code",
   "execution_count": null,
   "id": "6d7b802c-df45-4302-a575-16ddbfdc68a9",
   "metadata": {},
   "outputs": [],
   "source": []
  },
  {
   "cell_type": "code",
   "execution_count": null,
   "id": "f18a6217-7168-4a78-a462-53e5ccbae023",
   "metadata": {},
   "outputs": [],
   "source": []
  },
  {
   "cell_type": "code",
   "execution_count": null,
   "id": "cc7d0419-8a69-47b0-8c0b-5b5e835e28c3",
   "metadata": {},
   "outputs": [],
   "source": []
  }
 ],
 "metadata": {
  "kernelspec": {
   "display_name": "Python 3 (ipykernel)",
   "language": "python",
   "name": "python3"
  },
  "language_info": {
   "codemirror_mode": {
    "name": "ipython",
    "version": 3
   },
   "file_extension": ".py",
   "mimetype": "text/x-python",
   "name": "python",
   "nbconvert_exporter": "python",
   "pygments_lexer": "ipython3",
   "version": "3.8.11"
  }
 },
 "nbformat": 4,
 "nbformat_minor": 5
}
