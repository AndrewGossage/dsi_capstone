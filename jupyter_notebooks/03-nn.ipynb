{
 "cells": [
  {
   "cell_type": "markdown",
   "id": "189e2e5b-2046-4bf3-ab39-769fefed42cc",
   "metadata": {},
   "source": [
    "<h2>imports</h2>"
   ]
  },
  {
   "cell_type": "code",
   "execution_count": 2,
   "id": "b3bc89f5-d8ec-429f-b795-f151c435ba9f",
   "metadata": {},
   "outputs": [
    {
     "ename": "ModuleNotFoundError",
     "evalue": "No module named 'tensorflow'",
     "output_type": "error",
     "traceback": [
      "\u001b[0;31m---------------------------------------------------------------------------\u001b[0m",
      "\u001b[0;31mModuleNotFoundError\u001b[0m                       Traceback (most recent call last)",
      "\u001b[0;32m<ipython-input-2-6354f9775eb6>\u001b[0m in \u001b[0;36m<module>\u001b[0;34m\u001b[0m\n\u001b[1;32m      2\u001b[0m \u001b[0;32mimport\u001b[0m \u001b[0mmatplotlib\u001b[0m\u001b[0;34m.\u001b[0m\u001b[0mpyplot\u001b[0m \u001b[0;32mas\u001b[0m \u001b[0mplt\u001b[0m\u001b[0;34m\u001b[0m\u001b[0;34m\u001b[0m\u001b[0m\n\u001b[1;32m      3\u001b[0m \u001b[0;32mfrom\u001b[0m \u001b[0msklearn\u001b[0m \u001b[0;32mimport\u001b[0m \u001b[0mmetrics\u001b[0m\u001b[0;34m\u001b[0m\u001b[0;34m\u001b[0m\u001b[0m\n\u001b[0;32m----> 4\u001b[0;31m \u001b[0;32mfrom\u001b[0m \u001b[0mtensorflow\u001b[0m \u001b[0;32mimport\u001b[0m \u001b[0mkeras\u001b[0m \u001b[0;32mas\u001b[0m \u001b[0mtf\u001b[0m\u001b[0;34m\u001b[0m\u001b[0;34m\u001b[0m\u001b[0m\n\u001b[0m\u001b[1;32m      5\u001b[0m \u001b[0;32mimport\u001b[0m \u001b[0mpickle\u001b[0m\u001b[0;34m\u001b[0m\u001b[0;34m\u001b[0m\u001b[0m\n\u001b[1;32m      6\u001b[0m \u001b[0;32mfrom\u001b[0m \u001b[0mtensorflow\u001b[0m \u001b[0;32mimport\u001b[0m \u001b[0mgreater\u001b[0m\u001b[0;34m,\u001b[0m \u001b[0mreshape\u001b[0m\u001b[0;34m\u001b[0m\u001b[0;34m\u001b[0m\u001b[0m\n",
      "\u001b[0;31mModuleNotFoundError\u001b[0m: No module named 'tensorflow'"
     ]
    }
   ],
   "source": [
    "import pandas as pd\n",
    "import matplotlib.pyplot as plt\n",
    "from sklearn import metrics\n",
    "from tensorflow import keras as tf\n",
    "import pickle\n",
    "from tensorflow import greater, reshape\n",
    "import numpy as np\n",
    "from sklearn.linear_model import LogisticRegression\n",
    "from sklearn.model_selection import train_test_split\n",
    "from sklearn.preprocessing import StandardScaler\n",
    "from sklearn import metrics\n",
    "import pickle\n",
    "%matplotlib inline"
   ]
  },
  {
   "cell_type": "code",
   "execution_count": null,
   "id": "a283a621-9710-408f-becf-49959a62b295",
   "metadata": {},
   "outputs": [],
   "source": [
    "with open('../pickles/train_test.pkl', 'rb') as pickle_in:\n",
    "    X_train, X_test, y_train, y_test = pickle.load(pickle_in)"
   ]
  },
  {
   "cell_type": "code",
   "execution_count": null,
   "id": "bda9c7f9-10e4-485a-8af9-1a38b7600c62",
   "metadata": {},
   "outputs": [],
   "source": [
    "X_train.shape"
   ]
  },
  {
   "cell_type": "markdown",
   "id": "98d9d276-10ea-42a7-a34c-93144284078d",
   "metadata": {},
   "source": [
    "<h2>Model Set Up</h2>"
   ]
  },
  {
   "cell_type": "code",
   "execution_count": null,
   "id": "72627351-d1c3-40a9-b965-f919eb7a6844",
   "metadata": {},
   "outputs": [],
   "source": [
    "rec = tf.metrics.Recall()"
   ]
  },
  {
   "cell_type": "code",
   "execution_count": null,
   "id": "db312379-d765-4ca9-aaa3-137327662dc1",
   "metadata": {},
   "outputs": [],
   "source": [
    "model = tf.Sequential([\n",
    "    tf.layers.Dense(16, input_shape=(X_train.shape[1],), activation='relu'),\n",
    "    tf.layers.Dense(64, activation='relu'),\n",
    "    tf.layers.Dense(128, activation='relu'),\n",
    "    tf.layers.Dense(128, activation='relu'),\n",
    "    tf.layers.Dense(64, activation='relu'),\n",
    "    tf.layers.Dense(16, activation='relu'),\n",
    "    tf.layers.Dense(1, activation = 'sigmoid')\n",
    "\n",
    "])"
   ]
  },
  {
   "cell_type": "code",
   "execution_count": null,
   "id": "4392158f-8c11-4594-99ca-bc4a42471dd2",
   "metadata": {},
   "outputs": [],
   "source": [
    "\n",
    "model.compile(optimizer='adam', loss= tf.losses.BinaryCrossentropy(),  metrics=['accuracy', rec])\n",
    "es = tf.callbacks.EarlyStopping(patience = 20, restore_best_weights=True, monitor='val_recall')"
   ]
  },
  {
   "cell_type": "markdown",
   "id": "921a951d-df03-495d-b775-2ab506e21abb",
   "metadata": {},
   "source": [
    "model.fit(X_train, y_train, batch_size = 32, epochs = 100, validation_data = (X_test, y_test))"
   ]
  },
  {
   "cell_type": "code",
   "execution_count": null,
   "id": "aa2059b4-636d-44b1-b96a-5c63d3f8027b",
   "metadata": {},
   "outputs": [],
   "source": [
    "model.fit(X_train, y_train, batch_size = 32, epochs = 1000, validation_data = (X_test, y_test), callbacks=[es])"
   ]
  },
  {
   "cell_type": "code",
   "execution_count": null,
   "id": "1a3fc3b0-3e28-4bcc-a5b3-7cf08cf5b113",
   "metadata": {},
   "outputs": [],
   "source": [
    "preds = greater(model.predict(X_test), .35)"
   ]
  },
  {
   "cell_type": "code",
   "execution_count": null,
   "id": "e41b46c3-0cab-4ddc-96af-ef45f121677b",
   "metadata": {},
   "outputs": [],
   "source": [
    "metrics.recall_score(y_test,reshape(preds, preds.shape[0] ))"
   ]
  },
  {
   "cell_type": "code",
   "execution_count": null,
   "id": "afd519bc-782b-450d-918d-f213f91aff1f",
   "metadata": {},
   "outputs": [],
   "source": [
    "\n",
    "metrics.accuracy_score(y_test,reshape(preds, preds.shape[0] ))"
   ]
  },
  {
   "cell_type": "code",
   "execution_count": null,
   "id": "3f49eb66-a60e-47a5-808b-45077fd91083",
   "metadata": {},
   "outputs": [],
   "source": [
    "y_train.mean()"
   ]
  },
  {
   "cell_type": "code",
   "execution_count": null,
   "id": "86383868-766c-4243-b576-b9047552fe21",
   "metadata": {},
   "outputs": [],
   "source": [
    "df2 = pd.read_csv('../data/attrition-formated.csv')\n",
    "df2.dropna(inplace=True)\n",
    "df['Attrition'].mean()"
   ]
  },
  {
   "cell_type": "code",
   "execution_count": null,
   "id": "a178d124-47d3-4490-b83d-e0a542f59801",
   "metadata": {},
   "outputs": [],
   "source": [
    "df['Attrition'].mean()"
   ]
  },
  {
   "cell_type": "code",
   "execution_count": null,
   "id": "a669ad6b-0e08-409e-85b8-91c8aa98069d",
   "metadata": {},
   "outputs": [],
   "source": [
    "sc = StandardScaler()\n",
    "df2 = pd.get_dummies(df2, columns = ['EducationField'] )\n",
    "X_train, X_test, y_train, y_test = train_test_split(df2.drop(columns=['Attrition']), df2['Attrition'], stratify = df2['Attrition'])\n",
    "X_train_df = pd.DataFrame(X_train)\n",
    "X_train_df['Attrition'] = y_train\n",
    "rs = X_train_df[X_train_df['Attrition'] == 1].sample(500, replace = True)\n",
    "\n",
    "X_train_df = pd.concat([X_train_df, rs])\n",
    "X_train_df['Attrition'].mean()"
   ]
  },
  {
   "cell_type": "code",
   "execution_count": null,
   "id": "028d0692-fabb-469b-a717-b9a52dadf7a6",
   "metadata": {},
   "outputs": [],
   "source": []
  },
  {
   "cell_type": "code",
   "execution_count": null,
   "id": "a9ed7361-c1f4-4f5d-8d49-a58c8ca1da90",
   "metadata": {},
   "outputs": [],
   "source": [
    "X_train = sc.fit_transform(X_train_df.drop(columns=['Attrition']))\n",
    "y_train = X_train_df['Attrition']\n",
    "X_test = sc.transform(X_test)"
   ]
  },
  {
   "cell_type": "code",
   "execution_count": null,
   "id": "91839c86-8237-4804-a730-7a3a2e74ddc3",
   "metadata": {},
   "outputs": [],
   "source": [
    "model2 = tf.Sequential([\n",
    "    tf.layers.Dense(16, input_shape=(X_train.shape[1],), activation='relu'),\n",
    "    tf.layers.Dense(64, activation='relu'),\n",
    "    tf.layers.Dense(128, activation='relu'),\n",
    "    tf.layers.Dense(128, activation='relu'),\n",
    "    tf.layers.Dense(64, activation='relu'),\n",
    "    tf.layers.Dense(16, activation='relu'),\n",
    "    tf.layers.Dense(1, activation = 'sigmoid')\n",
    "\n",
    "])\n",
    "\n",
    "model2.compile(optimizer='adam', loss= tf.losses.BinaryCrossentropy(),  metrics=['accuracy', rec])\n",
    "es = tf.callbacks.EarlyStopping(patience = 20, restore_best_weights=True, monitor='val_recall')"
   ]
  },
  {
   "cell_type": "code",
   "execution_count": null,
   "id": "3539792a-dc8e-440d-8e1c-2fe7fb68af25",
   "metadata": {},
   "outputs": [],
   "source": [
    "model2.fit(X_train, y_train, batch_size = 32, epochs = 100, validation_data = (X_test, y_test), callbacks=[es])"
   ]
  },
  {
   "cell_type": "code",
   "execution_count": null,
   "id": "a4002040-cc91-42cc-8e58-74991121e551",
   "metadata": {},
   "outputs": [],
   "source": [
    "preds = greater(model2.predict(X_test), .05)\n",
    "base_preds = [0] \n",
    "metrics.recall_score(y_test,reshape(preds, preds.shape[0] ))"
   ]
  },
  {
   "cell_type": "code",
   "execution_count": null,
   "id": "9dff80ad-bab2-4ec7-ba3c-f88913cded75",
   "metadata": {},
   "outputs": [],
   "source": [
    "metrics.accuracy_score(y_test,reshape(preds, preds.shape[0] ))"
   ]
  },
  {
   "cell_type": "code",
   "execution_count": null,
   "id": "f27e24c0-7719-479d-b151-c02cbcd096b2",
   "metadata": {},
   "outputs": [],
   "source": [
    "metrics.recall_score(y_test,reshape(preds, ))"
   ]
  },
  {
   "cell_type": "code",
   "execution_count": null,
   "id": "688d61dd-5134-49ad-8b94-2bb1d168e046",
   "metadata": {},
   "outputs": [],
   "source": [
    "tf.models.save_model(model2, '../models/nn.tf' )"
   ]
  },
  {
   "cell_type": "code",
   "execution_count": null,
   "id": "bfb8271c-748b-4337-a8f9-5bd232b52fdc",
   "metadata": {},
   "outputs": [],
   "source": [
    "model3 = tf.models.load_model('../models/nn.tf')"
   ]
  },
  {
   "cell_type": "code",
   "execution_count": null,
   "id": "1d090965-0a7b-4800-a937-55a1de11c36f",
   "metadata": {},
   "outputs": [],
   "source": [
    "preds = greater(model3.predict(X_test), .05)\n",
    "metrics.recall_score(y_test,reshape(preds, preds.shape[0] ))"
   ]
  },
  {
   "cell_type": "code",
   "execution_count": null,
   "id": "c6072d29-aaf5-4c5e-b8f0-e42fe14a7e39",
   "metadata": {},
   "outputs": [],
   "source": [
    "metrics.accuracy_score(y_test,reshape(preds, preds.shape[0] ))"
   ]
  },
  {
   "cell_type": "code",
   "execution_count": null,
   "id": "98fb7b4e-011f-4971-a818-43c145af3140",
   "metadata": {},
   "outputs": [],
   "source": [
    "df2['MaritalStatus'].mean()"
   ]
  },
  {
   "cell_type": "code",
   "execution_count": null,
   "id": "b9ebf2cb-f675-48f8-9e9f-ee5fad7ead39",
   "metadata": {},
   "outputs": [],
   "source": [
    "with open('../pickles/train_test.pkl', 'rb') as pickle_in:\n",
    "    X_train, X_test, y_train, y_test = pickle.load(pickle_in)"
   ]
  }
 ],
 "metadata": {
  "kernelspec": {
   "display_name": "Python 3",
   "language": "python",
   "name": "python3"
  },
  "language_info": {
   "codemirror_mode": {
    "name": "ipython",
    "version": 3
   },
   "file_extension": ".py",
   "mimetype": "text/x-python",
   "name": "python",
   "nbconvert_exporter": "python",
   "pygments_lexer": "ipython3",
   "version": "3.8.11"
  }
 },
 "nbformat": 4,
 "nbformat_minor": 5
}
