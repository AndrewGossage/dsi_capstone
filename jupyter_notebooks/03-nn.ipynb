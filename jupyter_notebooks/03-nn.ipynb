{
 "cells": [
  {
   "cell_type": "markdown",
   "id": "189e2e5b-2046-4bf3-ab39-769fefed42cc",
   "metadata": {},
   "source": [
    "<h2>imports</h2>"
   ]
  },
  {
   "cell_type": "code",
   "execution_count": 1,
   "id": "b3bc89f5-d8ec-429f-b795-f151c435ba9f",
   "metadata": {},
   "outputs": [],
   "source": [
    "import pandas as pd\n",
    "import matplotlib.pyplot as plt\n",
    "from sklearn import metrics\n",
    "from tensorflow import keras as tf\n",
    "import pickle\n",
    "from tensorflow import greater, reshape\n",
    "import numpy as np\n",
    "from sklearn.linear_model import LogisticRegression\n",
    "from sklearn.model_selection import train_test_split\n",
    "from sklearn.preprocessing import StandardScaler\n",
    "from sklearn import metrics\n",
    "import pickle\n",
    "%matplotlib inline"
   ]
  },
  {
   "cell_type": "code",
   "execution_count": 2,
   "id": "a283a621-9710-408f-becf-49959a62b295",
   "metadata": {},
   "outputs": [],
   "source": [
    "with open('../pickles/train_test_rs.pkl', 'rb') as pickle_in:\n",
    "    X_train, X_test, y_train, y_test = pickle.load(pickle_in)"
   ]
  },
  {
   "cell_type": "code",
   "execution_count": 3,
   "id": "bda9c7f9-10e4-485a-8af9-1a38b7600c62",
   "metadata": {},
   "outputs": [
    {
     "data": {
      "text/plain": [
       "(1357, 35)"
      ]
     },
     "execution_count": 3,
     "metadata": {},
     "output_type": "execute_result"
    }
   ],
   "source": [
    "X_train.shape"
   ]
  },
  {
   "cell_type": "markdown",
   "id": "98d9d276-10ea-42a7-a34c-93144284078d",
   "metadata": {},
   "source": [
    "<h2>Model Set Up</h2>"
   ]
  },
  {
   "cell_type": "code",
   "execution_count": 4,
   "id": "72627351-d1c3-40a9-b965-f919eb7a6844",
   "metadata": {},
   "outputs": [
    {
     "name": "stderr",
     "output_type": "stream",
     "text": [
      "2021-10-18 21:18:00.555389: I tensorflow/compiler/jit/xla_cpu_device.cc:41] Not creating XLA devices, tf_xla_enable_xla_devices not set\n",
      "2021-10-18 21:18:00.555782: I tensorflow/core/platform/cpu_feature_guard.cc:142] This TensorFlow binary is optimized with oneAPI Deep Neural Network Library (oneDNN) to use the following CPU instructions in performance-critical operations:  SSE4.1 SSE4.2 AVX AVX2 FMA\n",
      "To enable them in other operations, rebuild TensorFlow with the appropriate compiler flags.\n",
      "2021-10-18 21:18:00.557911: I tensorflow/core/common_runtime/process_util.cc:146] Creating new thread pool with default inter op setting: 2. Tune using inter_op_parallelism_threads for best performance.\n"
     ]
    }
   ],
   "source": [
    "rec = tf.metrics.Recall()"
   ]
  },
  {
   "cell_type": "code",
   "execution_count": 5,
   "id": "db312379-d765-4ca9-aaa3-137327662dc1",
   "metadata": {},
   "outputs": [],
   "source": [
    "model = tf.Sequential([\n",
    "    tf.layers.Dense(16, input_shape=(X_train.shape[1],), activation='relu'),\n",
    "    tf.layers.Dense(64, activation='relu'),\n",
    "    tf.layers.Dense(128, activation='relu'),\n",
    "    tf.layers.Dense(128, activation='relu'),\n",
    "    tf.layers.Dense(64, activation='relu'),\n",
    "    tf.layers.Dense(16, activation='relu'),\n",
    "    tf.layers.Dense(1, activation = 'sigmoid')\n",
    "\n",
    "])"
   ]
  },
  {
   "cell_type": "code",
   "execution_count": 6,
   "id": "4392158f-8c11-4594-99ca-bc4a42471dd2",
   "metadata": {},
   "outputs": [],
   "source": [
    "\n",
    "model.compile(optimizer='adam', loss= tf.losses.BinaryCrossentropy(),  metrics=['accuracy', rec])\n",
    "es = tf.callbacks.EarlyStopping(patience = 20, restore_best_weights=True, monitor='val_recall')"
   ]
  },
  {
   "cell_type": "markdown",
   "id": "921a951d-df03-495d-b775-2ab506e21abb",
   "metadata": {},
   "source": [
    "model.fit(X_train, y_train, batch_size = 32, epochs = 100, validation_data = (X_test, y_test))"
   ]
  },
  {
   "cell_type": "code",
   "execution_count": 7,
   "id": "aa2059b4-636d-44b1-b96a-5c63d3f8027b",
   "metadata": {},
   "outputs": [
    {
     "name": "stderr",
     "output_type": "stream",
     "text": [
      "2021-10-18 21:18:01.842901: I tensorflow/compiler/mlir/mlir_graph_optimization_pass.cc:116] None of the MLIR optimization passes are enabled (registered 2)\n",
      "2021-10-18 21:18:01.861355: I tensorflow/core/platform/profile_utils/cpu_utils.cc:112] CPU Frequency: 1696065000 Hz\n"
     ]
    },
    {
     "name": "stdout",
     "output_type": "stream",
     "text": [
      "Epoch 1/1000\n",
      "43/43 [==============================] - 5s 69ms/step - loss: 0.6677 - accuracy: 0.5946 - recall: 0.2895 - val_loss: 0.5555 - val_accuracy: 0.7552 - val_recall: 0.4314\n",
      "Epoch 2/1000\n",
      "43/43 [==============================] - 2s 41ms/step - loss: 0.5323 - accuracy: 0.7424 - recall: 0.6217 - val_loss: 0.5497 - val_accuracy: 0.7657 - val_recall: 0.5098\n",
      "Epoch 3/1000\n",
      "43/43 [==============================] - 2s 37ms/step - loss: 0.4175 - accuracy: 0.8132 - recall: 0.7534 - val_loss: 0.4965 - val_accuracy: 0.7937 - val_recall: 0.4510\n",
      "Epoch 4/1000\n",
      "43/43 [==============================] - 2s 42ms/step - loss: 0.3034 - accuracy: 0.8832 - recall: 0.8681 - val_loss: 0.5123 - val_accuracy: 0.8287 - val_recall: 0.4314\n",
      "Epoch 5/1000\n",
      "43/43 [==============================] - 2s 37ms/step - loss: 0.2204 - accuracy: 0.9121 - recall: 0.9154 - val_loss: 0.6787 - val_accuracy: 0.7657 - val_recall: 0.4902\n",
      "Epoch 6/1000\n",
      "43/43 [==============================] - 2s 43ms/step - loss: 0.1903 - accuracy: 0.9309 - recall: 0.9639 - val_loss: 0.6785 - val_accuracy: 0.8287 - val_recall: 0.4118\n",
      "Epoch 7/1000\n",
      "43/43 [==============================] - 1s 33ms/step - loss: 0.1152 - accuracy: 0.9621 - recall: 0.9714 - val_loss: 0.7456 - val_accuracy: 0.8287 - val_recall: 0.4314\n",
      "Epoch 8/1000\n",
      "43/43 [==============================] - 2s 38ms/step - loss: 0.0607 - accuracy: 0.9847 - recall: 0.9923 - val_loss: 0.8612 - val_accuracy: 0.7797 - val_recall: 0.3922\n",
      "Epoch 9/1000\n",
      "43/43 [==============================] - 1s 29ms/step - loss: 0.0778 - accuracy: 0.9741 - recall: 0.9792 - val_loss: 0.9651 - val_accuracy: 0.7832 - val_recall: 0.3725\n",
      "Epoch 10/1000\n",
      "43/43 [==============================] - 2s 40ms/step - loss: 0.0303 - accuracy: 0.9915 - recall: 0.9950 - val_loss: 1.0830 - val_accuracy: 0.8182 - val_recall: 0.3333\n",
      "Epoch 11/1000\n",
      "43/43 [==============================] - 1s 32ms/step - loss: 0.0149 - accuracy: 0.9982 - recall: 0.9981 - val_loss: 1.1895 - val_accuracy: 0.8077 - val_recall: 0.3137\n",
      "Epoch 12/1000\n",
      "43/43 [==============================] - 2s 44ms/step - loss: 0.0118 - accuracy: 0.9992 - recall: 1.0000 - val_loss: 1.3131 - val_accuracy: 0.8042 - val_recall: 0.3529\n",
      "Epoch 13/1000\n",
      "43/43 [==============================] - 2s 47ms/step - loss: 0.0040 - accuracy: 0.9998 - recall: 1.0000 - val_loss: 1.4243 - val_accuracy: 0.8112 - val_recall: 0.2941\n",
      "Epoch 14/1000\n",
      "43/43 [==============================] - 2s 41ms/step - loss: 0.0071 - accuracy: 0.9986 - recall: 1.0000 - val_loss: 1.4265 - val_accuracy: 0.8077 - val_recall: 0.3922\n",
      "Epoch 15/1000\n",
      "43/43 [==============================] - 2s 42ms/step - loss: 0.0035 - accuracy: 1.0000 - recall: 1.0000 - val_loss: 1.5435 - val_accuracy: 0.8217 - val_recall: 0.3333\n",
      "Epoch 16/1000\n",
      "43/43 [==============================] - 2s 37ms/step - loss: 0.0015 - accuracy: 1.0000 - recall: 1.0000 - val_loss: 1.5752 - val_accuracy: 0.8147 - val_recall: 0.3333\n",
      "Epoch 17/1000\n",
      "43/43 [==============================] - 2s 39ms/step - loss: 6.5757e-04 - accuracy: 1.0000 - recall: 1.0000 - val_loss: 1.6399 - val_accuracy: 0.8217 - val_recall: 0.3922\n",
      "Epoch 18/1000\n",
      "43/43 [==============================] - 2s 35ms/step - loss: 4.3316e-04 - accuracy: 1.0000 - recall: 1.0000 - val_loss: 1.6806 - val_accuracy: 0.8252 - val_recall: 0.3922\n",
      "Epoch 19/1000\n",
      "43/43 [==============================] - 1s 33ms/step - loss: 3.9585e-04 - accuracy: 1.0000 - recall: 1.0000 - val_loss: 1.7182 - val_accuracy: 0.8252 - val_recall: 0.3922\n",
      "Epoch 20/1000\n",
      "43/43 [==============================] - 2s 40ms/step - loss: 3.2912e-04 - accuracy: 1.0000 - recall: 1.0000 - val_loss: 1.7471 - val_accuracy: 0.8252 - val_recall: 0.3922\n",
      "Epoch 21/1000\n",
      "43/43 [==============================] - 2s 39ms/step - loss: 2.8972e-04 - accuracy: 1.0000 - recall: 1.0000 - val_loss: 1.7796 - val_accuracy: 0.8217 - val_recall: 0.3725\n",
      "Epoch 22/1000\n",
      "43/43 [==============================] - 2s 40ms/step - loss: 2.1380e-04 - accuracy: 1.0000 - recall: 1.0000 - val_loss: 1.8046 - val_accuracy: 0.8252 - val_recall: 0.3922\n",
      "Epoch 23/1000\n",
      "43/43 [==============================] - 2s 41ms/step - loss: 2.0689e-04 - accuracy: 1.0000 - recall: 1.0000 - val_loss: 1.8290 - val_accuracy: 0.8252 - val_recall: 0.3922\n",
      "Epoch 24/1000\n",
      "43/43 [==============================] - 2s 37ms/step - loss: 1.8085e-04 - accuracy: 1.0000 - recall: 1.0000 - val_loss: 1.8537 - val_accuracy: 0.8252 - val_recall: 0.3922\n",
      "Epoch 25/1000\n",
      "43/43 [==============================] - 2s 37ms/step - loss: 1.7508e-04 - accuracy: 1.0000 - recall: 1.0000 - val_loss: 1.8771 - val_accuracy: 0.8252 - val_recall: 0.3922\n",
      "Epoch 26/1000\n",
      "43/43 [==============================] - 2s 40ms/step - loss: 1.5507e-04 - accuracy: 1.0000 - recall: 1.0000 - val_loss: 1.8980 - val_accuracy: 0.8252 - val_recall: 0.3922\n",
      "Epoch 27/1000\n",
      "43/43 [==============================] - 1s 34ms/step - loss: 1.2251e-04 - accuracy: 1.0000 - recall: 1.0000 - val_loss: 1.9168 - val_accuracy: 0.8252 - val_recall: 0.3922\n",
      "Epoch 28/1000\n",
      "43/43 [==============================] - 2s 36ms/step - loss: 1.1921e-04 - accuracy: 1.0000 - recall: 1.0000 - val_loss: 1.9377 - val_accuracy: 0.8252 - val_recall: 0.3922\n",
      "Epoch 29/1000\n",
      "43/43 [==============================] - 2s 41ms/step - loss: 1.1507e-04 - accuracy: 1.0000 - recall: 1.0000 - val_loss: 1.9571 - val_accuracy: 0.8287 - val_recall: 0.3922\n",
      "Epoch 30/1000\n",
      "43/43 [==============================] - 2s 34ms/step - loss: 1.0846e-04 - accuracy: 1.0000 - recall: 1.0000 - val_loss: 1.9722 - val_accuracy: 0.8287 - val_recall: 0.3922\n",
      "Epoch 31/1000\n",
      "43/43 [==============================] - 2s 38ms/step - loss: 9.5068e-05 - accuracy: 1.0000 - recall: 1.0000 - val_loss: 1.9900 - val_accuracy: 0.8287 - val_recall: 0.3922\n",
      "Epoch 32/1000\n",
      "43/43 [==============================] - 2s 47ms/step - loss: 7.7440e-05 - accuracy: 1.0000 - recall: 1.0000 - val_loss: 2.0077 - val_accuracy: 0.8287 - val_recall: 0.3922\n",
      "Epoch 33/1000\n",
      "43/43 [==============================] - 2s 39ms/step - loss: 8.4233e-05 - accuracy: 1.0000 - recall: 1.0000 - val_loss: 2.0242 - val_accuracy: 0.8287 - val_recall: 0.3922\n"
     ]
    },
    {
     "data": {
      "text/plain": [
       "<tensorflow.python.keras.callbacks.History at 0x7fbcd06c5c70>"
      ]
     },
     "execution_count": 7,
     "metadata": {},
     "output_type": "execute_result"
    }
   ],
   "source": [
    "model.fit(X_train, y_train, batch_size = 32, epochs = 1000, validation_data = (X_test, y_test), callbacks=[es])"
   ]
  },
  {
   "cell_type": "code",
   "execution_count": 8,
   "id": "1a3fc3b0-3e28-4bcc-a5b3-7cf08cf5b113",
   "metadata": {},
   "outputs": [],
   "source": [
    "preds = greater(model.predict(X_test), .35)"
   ]
  },
  {
   "cell_type": "code",
   "execution_count": 9,
   "id": "e41b46c3-0cab-4ddc-96af-ef45f121677b",
   "metadata": {},
   "outputs": [
    {
     "data": {
      "text/plain": [
       "0.3137254901960784"
      ]
     },
     "execution_count": 9,
     "metadata": {},
     "output_type": "execute_result"
    }
   ],
   "source": [
    "metrics.recall_score(y_test,preds)"
   ]
  },
  {
   "cell_type": "code",
   "execution_count": 10,
   "id": "afd519bc-782b-450d-918d-f213f91aff1f",
   "metadata": {},
   "outputs": [
    {
     "data": {
      "text/plain": [
       "0.8146853146853147"
      ]
     },
     "execution_count": 10,
     "metadata": {},
     "output_type": "execute_result"
    }
   ],
   "source": [
    "\n",
    "metrics.accuracy_score(y_test,reshape(preds, preds.shape[0] ))"
   ]
  },
  {
   "cell_type": "code",
   "execution_count": 11,
   "id": "3f49eb66-a60e-47a5-808b-45077fd91083",
   "metadata": {},
   "outputs": [
    {
     "data": {
      "text/plain": [
       "0.4812085482682388"
      ]
     },
     "execution_count": 11,
     "metadata": {},
     "output_type": "execute_result"
    }
   ],
   "source": [
    "y_train.mean()"
   ]
  },
  {
   "cell_type": "code",
   "execution_count": 12,
   "id": "86383868-766c-4243-b576-b9047552fe21",
   "metadata": {},
   "outputs": [
    {
     "ename": "NameError",
     "evalue": "name 'df' is not defined",
     "output_type": "error",
     "traceback": [
      "\u001b[0;31m---------------------------------------------------------------------------\u001b[0m",
      "\u001b[0;31mNameError\u001b[0m                                 Traceback (most recent call last)",
      "\u001b[0;32m/tmp/ipykernel_106497/106034818.py\u001b[0m in \u001b[0;36m<module>\u001b[0;34m\u001b[0m\n\u001b[1;32m      1\u001b[0m \u001b[0mdf2\u001b[0m \u001b[0;34m=\u001b[0m \u001b[0mpd\u001b[0m\u001b[0;34m.\u001b[0m\u001b[0mread_csv\u001b[0m\u001b[0;34m(\u001b[0m\u001b[0;34m'../data/attrition-formated.csv'\u001b[0m\u001b[0;34m)\u001b[0m\u001b[0;34m\u001b[0m\u001b[0;34m\u001b[0m\u001b[0m\n\u001b[1;32m      2\u001b[0m \u001b[0mdf2\u001b[0m\u001b[0;34m.\u001b[0m\u001b[0mdropna\u001b[0m\u001b[0;34m(\u001b[0m\u001b[0minplace\u001b[0m\u001b[0;34m=\u001b[0m\u001b[0;32mTrue\u001b[0m\u001b[0;34m)\u001b[0m\u001b[0;34m\u001b[0m\u001b[0;34m\u001b[0m\u001b[0m\n\u001b[0;32m----> 3\u001b[0;31m \u001b[0mdf\u001b[0m\u001b[0;34m[\u001b[0m\u001b[0;34m'Attrition'\u001b[0m\u001b[0;34m]\u001b[0m\u001b[0;34m.\u001b[0m\u001b[0mmean\u001b[0m\u001b[0;34m(\u001b[0m\u001b[0;34m)\u001b[0m\u001b[0;34m\u001b[0m\u001b[0;34m\u001b[0m\u001b[0m\n\u001b[0m",
      "\u001b[0;31mNameError\u001b[0m: name 'df' is not defined"
     ]
    }
   ],
   "source": [
    "df2 = pd.read_csv('../data/attrition-formated.csv')\n",
    "df2.dropna(inplace=True)\n",
    "df['Attrition'].mean()"
   ]
  },
  {
   "cell_type": "code",
   "execution_count": null,
   "id": "a178d124-47d3-4490-b83d-e0a542f59801",
   "metadata": {},
   "outputs": [],
   "source": [
    "df['Attrition'].mean()"
   ]
  },
  {
   "cell_type": "code",
   "execution_count": null,
   "id": "a669ad6b-0e08-409e-85b8-91c8aa98069d",
   "metadata": {},
   "outputs": [],
   "source": [
    "sc = StandardScaler()\n",
    "df2 = pd.get_dummies(df2, columns = ['EducationField'] )\n",
    "X_train, X_test, y_train, y_test = train_test_split(df2.drop(columns=['Attrition']), df2['Attrition'], stratify = df2['Attrition'])\n",
    "X_train_df = pd.DataFrame(X_train)\n",
    "X_train_df['Attrition'] = y_train\n",
    "rs = X_train_df[X_train_df['Attrition'] == 1].sample(500, replace = True)\n",
    "\n",
    "X_train_df = pd.concat([X_train_df, rs])\n",
    "X_train_df['Attrition'].mean()"
   ]
  },
  {
   "cell_type": "code",
   "execution_count": null,
   "id": "028d0692-fabb-469b-a717-b9a52dadf7a6",
   "metadata": {},
   "outputs": [],
   "source": []
  },
  {
   "cell_type": "code",
   "execution_count": null,
   "id": "a9ed7361-c1f4-4f5d-8d49-a58c8ca1da90",
   "metadata": {},
   "outputs": [],
   "source": [
    "X_train = sc.fit_transform(X_train_df.drop(columns=['Attrition']))\n",
    "y_train = X_train_df['Attrition']\n",
    "X_test = sc.transform(X_test)"
   ]
  },
  {
   "cell_type": "code",
   "execution_count": 63,
   "id": "91839c86-8237-4804-a730-7a3a2e74ddc3",
   "metadata": {},
   "outputs": [],
   "source": [
    "model2 = tf.Sequential([\n",
    "    tf.layers.Dense(16, input_shape=(X_train.shape[1],), activation='relu'),\n",
    "    tf.layers.Dropout(0.2),\n",
    "    tf.layers.Dense(64, activation='relu'),\n",
    "    tf.layers.Dropout(0.2),\n",
    "    tf.layers.Dense(128, activation='relu'),\n",
    "    tf.layers.Dropout(0.2),\n",
    "    tf.layers.Dense(128, activation='relu'),\n",
    "    tf.layers.Dropout(0.2),\n",
    "    tf.layers.Dense(64, activation='relu'),\n",
    "    tf.layers.Dropout(0.2),\n",
    "    tf.layers.Dense(16, activation='relu'),\n",
    "    tf.layers.Dense(1, activation = 'sigmoid')\n",
    "\n",
    "])\n",
    "\n",
    "model2.compile(optimizer='adam', loss= tf.losses.BinaryCrossentropy(),  metrics=['accuracy', rec])\n",
    "es = tf.callbacks.EarlyStopping(patience = 20, restore_best_weights=True, monitor='val_recall')"
   ]
  },
  {
   "cell_type": "code",
   "execution_count": 64,
   "id": "3539792a-dc8e-440d-8e1c-2fe7fb68af25",
   "metadata": {},
   "outputs": [
    {
     "name": "stdout",
     "output_type": "stream",
     "text": [
      "Epoch 1/100\n",
      "43/43 [==============================] - 4s 52ms/step - loss: 0.6958 - accuracy: 0.5232 - recall: 0.6320 - val_loss: 0.7285 - val_accuracy: 0.4860 - val_recall: 0.6667\n",
      "Epoch 2/100\n",
      "43/43 [==============================] - 2s 40ms/step - loss: 0.6648 - accuracy: 0.5887 - recall: 0.6135 - val_loss: 0.6030 - val_accuracy: 0.7657 - val_recall: 0.4118\n",
      "Epoch 3/100\n",
      "43/43 [==============================] - 2s 38ms/step - loss: 0.6266 - accuracy: 0.6761 - recall: 0.5112 - val_loss: 0.6145 - val_accuracy: 0.7133 - val_recall: 0.6078\n",
      "Epoch 4/100\n",
      "43/43 [==============================] - 2s 44ms/step - loss: 0.5818 - accuracy: 0.7070 - recall: 0.5982 - val_loss: 0.5158 - val_accuracy: 0.7762 - val_recall: 0.5294\n",
      "Epoch 5/100\n",
      "43/43 [==============================] - 2s 36ms/step - loss: 0.5220 - accuracy: 0.7429 - recall: 0.6719 - val_loss: 0.6014 - val_accuracy: 0.7098 - val_recall: 0.6863\n",
      "Epoch 6/100\n",
      "43/43 [==============================] - 1s 24ms/step - loss: 0.5274 - accuracy: 0.7498 - recall: 0.6896 - val_loss: 0.5392 - val_accuracy: 0.7762 - val_recall: 0.6863\n",
      "Epoch 7/100\n",
      "43/43 [==============================] - 2s 50ms/step - loss: 0.4788 - accuracy: 0.7810 - recall: 0.6880 - val_loss: 0.5029 - val_accuracy: 0.8007 - val_recall: 0.6078\n",
      "Epoch 8/100\n",
      "43/43 [==============================] - 1s 32ms/step - loss: 0.4695 - accuracy: 0.7846 - recall: 0.7214 - val_loss: 0.4893 - val_accuracy: 0.8112 - val_recall: 0.6078\n",
      "Epoch 9/100\n",
      "43/43 [==============================] - 2s 36ms/step - loss: 0.4260 - accuracy: 0.8082 - recall: 0.7343 - val_loss: 0.4603 - val_accuracy: 0.8322 - val_recall: 0.6078\n",
      "Epoch 10/100\n",
      "43/43 [==============================] - 2s 44ms/step - loss: 0.4352 - accuracy: 0.7815 - recall: 0.7141 - val_loss: 0.4972 - val_accuracy: 0.8112 - val_recall: 0.6275\n",
      "Epoch 11/100\n",
      "43/43 [==============================] - 2s 41ms/step - loss: 0.4532 - accuracy: 0.7884 - recall: 0.7384 - val_loss: 0.5097 - val_accuracy: 0.7972 - val_recall: 0.6275\n",
      "Epoch 12/100\n",
      "43/43 [==============================] - 1s 33ms/step - loss: 0.4010 - accuracy: 0.8183 - recall: 0.7944 - val_loss: 0.4957 - val_accuracy: 0.7937 - val_recall: 0.6667\n",
      "Epoch 13/100\n",
      "43/43 [==============================] - 1s 27ms/step - loss: 0.4029 - accuracy: 0.8116 - recall: 0.7736 - val_loss: 0.5127 - val_accuracy: 0.7727 - val_recall: 0.6471\n",
      "Epoch 14/100\n",
      "43/43 [==============================] - 2s 47ms/step - loss: 0.3752 - accuracy: 0.8283 - recall: 0.7936 - val_loss: 0.5299 - val_accuracy: 0.7832 - val_recall: 0.6667\n",
      "Epoch 15/100\n",
      "43/43 [==============================] - 2s 45ms/step - loss: 0.3991 - accuracy: 0.8204 - recall: 0.7993 - val_loss: 0.5239 - val_accuracy: 0.7902 - val_recall: 0.6863\n",
      "Epoch 16/100\n",
      "43/43 [==============================] - 2s 41ms/step - loss: 0.3904 - accuracy: 0.8230 - recall: 0.7987 - val_loss: 0.4974 - val_accuracy: 0.8112 - val_recall: 0.6471\n",
      "Epoch 17/100\n",
      "43/43 [==============================] - 2s 35ms/step - loss: 0.3397 - accuracy: 0.8609 - recall: 0.8104 - val_loss: 0.5001 - val_accuracy: 0.8007 - val_recall: 0.6667\n",
      "Epoch 18/100\n",
      "43/43 [==============================] - 2s 41ms/step - loss: 0.3551 - accuracy: 0.8321 - recall: 0.8159 - val_loss: 0.5113 - val_accuracy: 0.8077 - val_recall: 0.6471\n",
      "Epoch 19/100\n",
      "43/43 [==============================] - 2s 40ms/step - loss: 0.3529 - accuracy: 0.8475 - recall: 0.8441 - val_loss: 0.5056 - val_accuracy: 0.7972 - val_recall: 0.6667\n",
      "Epoch 20/100\n",
      "43/43 [==============================] - 2s 37ms/step - loss: 0.3620 - accuracy: 0.8301 - recall: 0.8029 - val_loss: 0.5123 - val_accuracy: 0.7867 - val_recall: 0.5882\n",
      "Epoch 21/100\n",
      "43/43 [==============================] - 2s 43ms/step - loss: 0.3379 - accuracy: 0.8631 - recall: 0.8271 - val_loss: 0.5050 - val_accuracy: 0.7622 - val_recall: 0.6471\n",
      "Epoch 22/100\n",
      "43/43 [==============================] - 2s 43ms/step - loss: 0.3845 - accuracy: 0.8216 - recall: 0.7964 - val_loss: 0.5394 - val_accuracy: 0.7797 - val_recall: 0.6471\n"
     ]
    },
    {
     "data": {
      "text/plain": [
       "<tensorflow.python.keras.callbacks.History at 0x7fbc6dbd4370>"
      ]
     },
     "execution_count": 64,
     "metadata": {},
     "output_type": "execute_result"
    }
   ],
   "source": [
    "model2.fit(X_train, y_train, batch_size = 32, epochs = 100, validation_data = (X_test, y_test), callbacks=[es])"
   ]
  },
  {
   "cell_type": "code",
   "execution_count": 77,
   "id": "a4002040-cc91-42cc-8e58-74991121e551",
   "metadata": {},
   "outputs": [
    {
     "data": {
      "text/plain": [
       "0.6666666666666666"
      ]
     },
     "execution_count": 77,
     "metadata": {},
     "output_type": "execute_result"
    }
   ],
   "source": [
    "preds = greater(model2.predict(X_test), .44)\n",
    "base_preds = [0] \n",
    "metrics.recall_score(y_test,reshape(preds, preds.shape[0] ))"
   ]
  },
  {
   "cell_type": "code",
   "execution_count": 78,
   "id": "9dff80ad-bab2-4ec7-ba3c-f88913cded75",
   "metadata": {},
   "outputs": [
    {
     "data": {
      "text/plain": [
       "0.6433566433566433"
      ]
     },
     "execution_count": 78,
     "metadata": {},
     "output_type": "execute_result"
    }
   ],
   "source": [
    "metrics.accuracy_score(y_test,reshape(preds, preds.shape[0] ))"
   ]
  },
  {
   "cell_type": "code",
   "execution_count": 79,
   "id": "ea080036-97a1-4a02-b827-12b90538b991",
   "metadata": {},
   "outputs": [
    {
     "data": {
      "image/png": "[encoded data removed]",
      "text/plain": [
       "<Figure size 432x288 with 2 Axes>"
      ]
     },
     "metadata": {
      "needs_background": "light"
     },
     "output_type": "display_data"
    }
   ],
   "source": [
    "con = metrics.confusion_matrix(y_test,reshape(preds, preds.shape[0] ))\n",
    "metrics.ConfusionMatrixDisplay(con).plot()\n",
    "plt.title('Neural Net Confusion Matrix')\n",
    "plt.savefig('../output/nn.png');"
   ]
  },
  {
   "cell_type": "code",
   "execution_count": null,
   "id": "f27e24c0-7719-479d-b151-c02cbcd096b2",
   "metadata": {},
   "outputs": [],
   "source": [
    "metrics.recall_score(y_test,reshape(preds, ))"
   ]
  },
  {
   "cell_type": "code",
   "execution_count": null,
   "id": "688d61dd-5134-49ad-8b94-2bb1d168e046",
   "metadata": {},
   "outputs": [],
   "source": [
    "tf.models.save_model(model2, '../models/nn.tf' )"
   ]
  },
  {
   "cell_type": "code",
   "execution_count": null,
   "id": "bfb8271c-748b-4337-a8f9-5bd232b52fdc",
   "metadata": {},
   "outputs": [],
   "source": [
    "model3 = tf.models.load_model('../models/nn.tf')"
   ]
  },
  {
   "cell_type": "code",
   "execution_count": null,
   "id": "1d090965-0a7b-4800-a937-55a1de11c36f",
   "metadata": {},
   "outputs": [],
   "source": [
    "preds = greater(model3.predict(X_test), .05)\n",
    "metrics.recall_score(y_test,reshape(preds, preds.shape[0] ))"
   ]
  },
  {
   "cell_type": "code",
   "execution_count": null,
   "id": "c6072d29-aaf5-4c5e-b8f0-e42fe14a7e39",
   "metadata": {},
   "outputs": [],
   "source": [
    "metrics.accuracy_score(y_test,reshape(preds, preds.shape[0] ))"
   ]
  },
  {
   "cell_type": "code",
   "execution_count": null,
   "id": "98fb7b4e-011f-4971-a818-43c145af3140",
   "metadata": {},
   "outputs": [],
   "source": [
    "df2['MaritalStatus'].mean()"
   ]
  },
  {
   "cell_type": "code",
   "execution_count": null,
   "id": "b9ebf2cb-f675-48f8-9e9f-ee5fad7ead39",
   "metadata": {},
   "outputs": [],
   "source": [
    "with open('../pickles/train_test.pkl', 'rb') as pickle_in:\n",
    "    X_train, X_test, y_train, y_test = pickle.load(pickle_in)"
   ]
  }
 ],
 "metadata": {
  "kernelspec": {
   "display_name": "Python 3 (ipykernel)",
   "language": "python",
   "name": "python3"
  },
  "language_info": {
   "codemirror_mode": {
    "name": "ipython",
    "version": 3
   },
   "file_extension": ".py",
   "mimetype": "text/x-python",
   "name": "python",
   "nbconvert_exporter": "python",
   "pygments_lexer": "ipython3",
   "version": "3.8.11"
  }
 },
 "nbformat": 4,
 "nbformat_minor": 5
}
