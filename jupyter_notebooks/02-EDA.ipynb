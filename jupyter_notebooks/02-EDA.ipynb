{
 "cells": [
  {
   "cell_type": "markdown",
   "id": "3e1045e8-a541-484b-83cb-bd2c90a6b29c",
   "metadata": {},
   "source": [
    "imports"
   ]
  },
  {
   "cell_type": "code",
   "execution_count": 2,
   "id": "2ce62854-881e-4359-8176-0610fa0ce335",
   "metadata": {},
   "outputs": [],
   "source": [
    "import pandas as pd\n",
    "import matplotlib.pyplot as plt\n",
    "import seaborn as sns\n",
    "from sklearn.linear_model import LogisticRegression\n",
    "from sklearn.model_selection import train_test_split\n",
    "from sklearn.preprocessing import StandardScaler\n",
    "from sklearn import metrics\n",
    "import pickle\n",
    "%matplotlib inline"
   ]
  },
  {
   "cell_type": "code",
   "execution_count": null,
   "id": "1f212e11-0f91-4b8c-a533-da369fc9ce4b",
   "metadata": {},
   "outputs": [],
   "source": []
  },
  {
   "cell_type": "markdown",
   "id": "29362bf7-3f2b-4ebe-a276-970f221af3c1",
   "metadata": {},
   "source": [
    "Read data"
   ]
  },
  {
   "cell_type": "code",
   "execution_count": 3,
   "id": "760be0ae-a548-4b9b-ae5d-0d04fd87c8e3",
   "metadata": {},
   "outputs": [],
   "source": [
    "df = pd.read_csv('../data/attrition-formated.csv')"
   ]
  },
  {
   "cell_type": "markdown",
   "id": "4fbbb695-202b-40cd-aff0-4b2d59156ab2",
   "metadata": {},
   "source": [
    "prepare data"
   ]
  },
  {
   "cell_type": "code",
   "execution_count": 4,
   "id": "562c104e-9843-4a2a-926b-e1146810d796",
   "metadata": {},
   "outputs": [
    {
     "data": {
      "text/html": [
       "<div>\n",
       "<style scoped>\n",
       "    .dataframe tbody tr th:only-of-type {\n",
       "        vertical-align: middle;\n",
       "    }\n",
       "\n",
       "    .dataframe tbody tr th {\n",
       "        vertical-align: top;\n",
       "    }\n",
       "\n",
       "    .dataframe thead th {\n",
       "        text-align: right;\n",
       "    }\n",
       "</style>\n",
       "<table border=\"1\" class=\"dataframe\">\n",
       "  <thead>\n",
       "    <tr style=\"text-align: right;\">\n",
       "      <th></th>\n",
       "      <th>Age</th>\n",
       "      <th>Attrition</th>\n",
       "      <th>BusinessTravel</th>\n",
       "      <th>DailyRate</th>\n",
       "      <th>DistanceFromHome</th>\n",
       "      <th>Education</th>\n",
       "      <th>EducationField</th>\n",
       "      <th>EmployeeNumber</th>\n",
       "      <th>EnvironmentSatisfaction</th>\n",
       "      <th>HourlyRate</th>\n",
       "      <th>...</th>\n",
       "      <th>StandardHours</th>\n",
       "      <th>StockOptionLevel</th>\n",
       "      <th>TotalWorkingYears</th>\n",
       "      <th>TrainingTimesLastYear</th>\n",
       "      <th>WorkLifeBalance</th>\n",
       "      <th>YearsAtCompany</th>\n",
       "      <th>YearsInCurrentRole</th>\n",
       "      <th>YearsSinceLastPromotion</th>\n",
       "      <th>YearsWithCurrManager</th>\n",
       "      <th>IsMale</th>\n",
       "    </tr>\n",
       "  </thead>\n",
       "  <tbody>\n",
       "    <tr>\n",
       "      <th>0</th>\n",
       "      <td>41</td>\n",
       "      <td>1</td>\n",
       "      <td>1</td>\n",
       "      <td>1102</td>\n",
       "      <td>1</td>\n",
       "      <td>2</td>\n",
       "      <td>Life Sciences</td>\n",
       "      <td>1</td>\n",
       "      <td>2</td>\n",
       "      <td>94</td>\n",
       "      <td>...</td>\n",
       "      <td>80</td>\n",
       "      <td>0</td>\n",
       "      <td>8</td>\n",
       "      <td>0</td>\n",
       "      <td>1</td>\n",
       "      <td>6</td>\n",
       "      <td>4</td>\n",
       "      <td>0</td>\n",
       "      <td>5</td>\n",
       "      <td>0</td>\n",
       "    </tr>\n",
       "    <tr>\n",
       "      <th>1</th>\n",
       "      <td>49</td>\n",
       "      <td>0</td>\n",
       "      <td>2</td>\n",
       "      <td>279</td>\n",
       "      <td>8</td>\n",
       "      <td>1</td>\n",
       "      <td>Life Sciences</td>\n",
       "      <td>2</td>\n",
       "      <td>3</td>\n",
       "      <td>61</td>\n",
       "      <td>...</td>\n",
       "      <td>80</td>\n",
       "      <td>1</td>\n",
       "      <td>10</td>\n",
       "      <td>3</td>\n",
       "      <td>3</td>\n",
       "      <td>10</td>\n",
       "      <td>7</td>\n",
       "      <td>1</td>\n",
       "      <td>7</td>\n",
       "      <td>1</td>\n",
       "    </tr>\n",
       "    <tr>\n",
       "      <th>2</th>\n",
       "      <td>37</td>\n",
       "      <td>1</td>\n",
       "      <td>1</td>\n",
       "      <td>1373</td>\n",
       "      <td>2</td>\n",
       "      <td>2</td>\n",
       "      <td>Other</td>\n",
       "      <td>4</td>\n",
       "      <td>4</td>\n",
       "      <td>92</td>\n",
       "      <td>...</td>\n",
       "      <td>80</td>\n",
       "      <td>0</td>\n",
       "      <td>7</td>\n",
       "      <td>3</td>\n",
       "      <td>3</td>\n",
       "      <td>0</td>\n",
       "      <td>0</td>\n",
       "      <td>0</td>\n",
       "      <td>0</td>\n",
       "      <td>1</td>\n",
       "    </tr>\n",
       "    <tr>\n",
       "      <th>3</th>\n",
       "      <td>33</td>\n",
       "      <td>0</td>\n",
       "      <td>2</td>\n",
       "      <td>1392</td>\n",
       "      <td>3</td>\n",
       "      <td>4</td>\n",
       "      <td>Life Sciences</td>\n",
       "      <td>5</td>\n",
       "      <td>4</td>\n",
       "      <td>56</td>\n",
       "      <td>...</td>\n",
       "      <td>80</td>\n",
       "      <td>0</td>\n",
       "      <td>8</td>\n",
       "      <td>3</td>\n",
       "      <td>3</td>\n",
       "      <td>8</td>\n",
       "      <td>7</td>\n",
       "      <td>3</td>\n",
       "      <td>0</td>\n",
       "      <td>0</td>\n",
       "    </tr>\n",
       "    <tr>\n",
       "      <th>4</th>\n",
       "      <td>27</td>\n",
       "      <td>0</td>\n",
       "      <td>1</td>\n",
       "      <td>591</td>\n",
       "      <td>2</td>\n",
       "      <td>1</td>\n",
       "      <td>Medical</td>\n",
       "      <td>7</td>\n",
       "      <td>1</td>\n",
       "      <td>40</td>\n",
       "      <td>...</td>\n",
       "      <td>80</td>\n",
       "      <td>1</td>\n",
       "      <td>6</td>\n",
       "      <td>3</td>\n",
       "      <td>3</td>\n",
       "      <td>2</td>\n",
       "      <td>2</td>\n",
       "      <td>2</td>\n",
       "      <td>2</td>\n",
       "      <td>1</td>\n",
       "    </tr>\n",
       "  </tbody>\n",
       "</table>\n",
       "<p>5 rows × 32 columns</p>\n",
       "</div>"
      ],
      "text/plain": [
       "   Age  Attrition  BusinessTravel  DailyRate  DistanceFromHome  Education  \\\n",
       "0   41          1               1       1102                 1          2   \n",
       "1   49          0               2        279                 8          1   \n",
       "2   37          1               1       1373                 2          2   \n",
       "3   33          0               2       1392                 3          4   \n",
       "4   27          0               1        591                 2          1   \n",
       "\n",
       "  EducationField  EmployeeNumber  EnvironmentSatisfaction  HourlyRate  ...  \\\n",
       "0  Life Sciences               1                        2          94  ...   \n",
       "1  Life Sciences               2                        3          61  ...   \n",
       "2          Other               4                        4          92  ...   \n",
       "3  Life Sciences               5                        4          56  ...   \n",
       "4        Medical               7                        1          40  ...   \n",
       "\n",
       "   StandardHours  StockOptionLevel  TotalWorkingYears  TrainingTimesLastYear  \\\n",
       "0             80                 0                  8                      0   \n",
       "1             80                 1                 10                      3   \n",
       "2             80                 0                  7                      3   \n",
       "3             80                 0                  8                      3   \n",
       "4             80                 1                  6                      3   \n",
       "\n",
       "   WorkLifeBalance  YearsAtCompany  YearsInCurrentRole  \\\n",
       "0                1               6                   4   \n",
       "1                3              10                   7   \n",
       "2                3               0                   0   \n",
       "3                3               8                   7   \n",
       "4                3               2                   2   \n",
       "\n",
       "   YearsSinceLastPromotion  YearsWithCurrManager  IsMale  \n",
       "0                        0                     5       0  \n",
       "1                        1                     7       1  \n",
       "2                        0                     0       1  \n",
       "3                        3                     0       0  \n",
       "4                        2                     2       1  \n",
       "\n",
       "[5 rows x 32 columns]"
      ]
     },
     "execution_count": 4,
     "metadata": {},
     "output_type": "execute_result"
    }
   ],
   "source": [
    "df.head()"
   ]
  },
  {
   "cell_type": "code",
   "execution_count": 5,
   "id": "c5d1c741-f85b-40bd-89fe-ffc5cda9ba08",
   "metadata": {},
   "outputs": [
    {
     "data": {
      "text/plain": [
       "3    893\n",
       "2    344\n",
       "4    153\n",
       "1     80\n",
       "Name: WorkLifeBalance, dtype: int64"
      ]
     },
     "execution_count": 5,
     "metadata": {},
     "output_type": "execute_result"
    }
   ],
   "source": [
    "df['WorkLifeBalance'].value_counts()"
   ]
  },
  {
   "cell_type": "code",
   "execution_count": 6,
   "id": "1014a024-269e-494a-961f-fe68500ccf31",
   "metadata": {},
   "outputs": [],
   "source": [
    "df = pd.get_dummies(df, columns = ['EducationField'] )"
   ]
  },
  {
   "cell_type": "code",
   "execution_count": 7,
   "id": "e073fc35-d455-4bdb-8e52-c4cff8b8961e",
   "metadata": {},
   "outputs": [
    {
     "data": {
      "text/plain": [
       "Index(['Age', 'Attrition', 'BusinessTravel', 'DailyRate', 'DistanceFromHome',\n",
       "       'Education', 'EmployeeNumber', 'EnvironmentSatisfaction', 'HourlyRate',\n",
       "       'JobInvolvement', 'JobLevel', 'JobSatisfaction', 'MaritalStatus',\n",
       "       'MonthlyIncome', 'MonthlyRate', 'NumCompaniesWorked', 'Over18',\n",
       "       'OverTime', 'PercentSalaryHike', 'PerformanceRating',\n",
       "       'RelationshipSatisfaction', 'StandardHours', 'StockOptionLevel',\n",
       "       'TotalWorkingYears', 'TrainingTimesLastYear', 'WorkLifeBalance',\n",
       "       'YearsAtCompany', 'YearsInCurrentRole', 'YearsSinceLastPromotion',\n",
       "       'YearsWithCurrManager', 'IsMale', 'EducationField_Human Resources',\n",
       "       'EducationField_Life Sciences', 'EducationField_Marketing',\n",
       "       'EducationField_Medical', 'EducationField_Other',\n",
       "       'EducationField_Technical Degree'],\n",
       "      dtype='object')"
      ]
     },
     "execution_count": 7,
     "metadata": {},
     "output_type": "execute_result"
    }
   ],
   "source": [
    "df.columns"
   ]
  },
  {
   "cell_type": "markdown",
   "id": "0e232e10-facc-4831-92bc-f703d6a110c8",
   "metadata": {},
   "source": [
    "Correlations"
   ]
  },
  {
   "cell_type": "code",
   "execution_count": 63,
   "id": "21756e2a-cf93-45bd-8a08-201c3ee138ee",
   "metadata": {},
   "outputs": [
    {
     "data": {
      "image/png": "[encoded data removed]",
      "text/plain": [
       "<Figure size 720x720 with 2 Axes>"
      ]
     },
     "metadata": {
      "needs_background": "light"
     },
     "output_type": "display_data"
    }
   ],
   "source": [
    "c = df.corr()\n",
    "plt.figure(figsize=(10,10))\n",
    "sns.heatmap(c[['Attrition']].sort_values('Attrition', ascending = False),annot=True);\n",
    "plt.title('Correlation with Attrition')\n",
    "plt.tight_layout()\n",
    "plt.savefig('../output/heatmap.png');\n"
   ]
  },
  {
   "cell_type": "code",
   "execution_count": 46,
   "id": "6085b181-1306-45bb-b49c-e48c7c69af2b",
   "metadata": {},
   "outputs": [
    {
     "data": {
      "text/plain": [
       "<AxesSubplot:xlabel='DistanceFromHome', ylabel='Attrition'>"
      ]
     },
     "execution_count": 46,
     "metadata": {},
     "output_type": "execute_result"
    },
    {
     "data": {
      "image/png": "[encoded data removed]",
      "text/plain": [
       "<Figure size 720x360 with 1 Axes>"
      ]
     },
     "metadata": {
      "needs_background": "light"
     },
     "output_type": "display_data"
    }
   ],
   "source": [
    "plt.figure(figsize=(10,5))\n",
    "sns.barplot(x = 'DistanceFromHome', y = 'Attrition', data=df)\n"
   ]
  },
  {
   "cell_type": "code",
   "execution_count": 59,
   "id": "28c69b09-b1d6-4214-a5e4-72ee541f4ff9",
   "metadata": {},
   "outputs": [
    {
     "data": {
      "text/plain": [
       "<AxesSubplot:xlabel='DistanceFromHome', ylabel='Attrition'>"
      ]
     },
     "execution_count": 59,
     "metadata": {},
     "output_type": "execute_result"
    },
    {
     "data": {
      "image/png": "[encoded data removed]",
      "text/plain": [
       "<Figure size 720x360 with 1 Axes>"
      ]
     },
     "metadata": {
      "needs_background": "light"
     },
     "output_type": "display_data"
    }
   ],
   "source": [
    "plt.figure(figsize=(10,5))\n",
    "sns.barplot(x = 'DistanceFromHome', y = 'Attrition', data=df, fill=True)"
   ]
  },
  {
   "cell_type": "code",
   "execution_count": 60,
   "id": "f65b79bf-1da1-4073-856b-4e58716b3f8b",
   "metadata": {},
   "outputs": [
    {
     "data": {
      "text/plain": [
       "<AxesSubplot:xlabel='HourlyRate', ylabel='Attrition'>"
      ]
     },
     "execution_count": 60,
     "metadata": {},
     "output_type": "execute_result"
    },
    {
     "data": {
      "image/png": "[encoded data removed]",
      "text/plain": [
       "<Figure size 720x360 with 1 Axes>"
      ]
     },
     "metadata": {
      "needs_background": "light"
     },
     "output_type": "display_data"
    }
   ],
   "source": [
    "plt.figure(figsize=(10,5))\n",
    "sns.barplot(x = 'HourlyRate', y = 'Attrition', data=df, fill=True)"
   ]
  },
  {
   "cell_type": "code",
   "execution_count": 64,
   "id": "dabb994a-a317-4bd3-92bf-cfe539c5f0c6",
   "metadata": {},
   "outputs": [
    {
     "data": {
      "image/png": "[encoded data removed]",
      "text/plain": [
       "<Figure size 720x360 with 1 Axes>"
      ]
     },
     "metadata": {
      "needs_background": "light"
     },
     "output_type": "display_data"
    }
   ],
   "source": [
    "plt.figure(figsize=(10,5))\n",
    "plt.title('Attrition vs Total Working Years')\n",
    "sns.barplot(x = 'TotalWorkingYears', y = 'Attrition', data=df);\n",
    "plt.tight_layout()\n",
    "plt.savefig('../output/attr-vs-work.png');"
   ]
  },
  {
   "cell_type": "code",
   "execution_count": 58,
   "id": "ab52e7cf-f068-41f1-87ee-1bf0d758b183",
   "metadata": {},
   "outputs": [
    {
     "data": {
      "text/plain": [
       "<AxesSubplot:xlabel='YearsInCurrentRole', ylabel='Attrition'>"
      ]
     },
     "execution_count": 58,
     "metadata": {},
     "output_type": "execute_result"
    },
    {
     "data": {
      "image/png": "[encoded data removed]",
      "text/plain": [
       "<Figure size 720x360 with 1 Axes>"
      ]
     },
     "metadata": {
      "needs_background": "light"
     },
     "output_type": "display_data"
    }
   ],
   "source": [
    "plt.figure(figsize=(10,5))\n",
    "sns.barplot(x = 'YearsInCurrentRole', y = 'Attrition', data=df)"
   ]
  },
  {
   "cell_type": "markdown",
   "id": "e79e1c4b-af9f-452c-973c-c99cd2f842dc",
   "metadata": {},
   "source": [
    "None of the observed datapoints have a very strong correlation with attrition"
   ]
  },
  {
   "cell_type": "code",
   "execution_count": null,
   "id": "540fddf1-28e8-4d43-98d3-a14166e24b91",
   "metadata": {},
   "outputs": [],
   "source": []
  },
  {
   "cell_type": "code",
   "execution_count": null,
   "id": "71c50ede-39f3-4f5e-9afb-9ec50c987a78",
   "metadata": {},
   "outputs": [],
   "source": [
    "df.dropna(inplace=True)"
   ]
  },
  {
   "cell_type": "code",
   "execution_count": 11,
   "id": "03918401-fab0-47df-a9d9-08bbf67acdc0",
   "metadata": {},
   "outputs": [],
   "source": [
    "logreg = LogisticRegression(max_iter = 2000 )\n",
    "sc = StandardScaler()\n",
    "X_train, X_test, y_train, y_test = train_test_split(df.drop(columns=['Attrition']), df['Attrition'], stratify = df['Attrition'])\n",
    "X_train = sc.fit_transform(X_train)\n",
    "X_test = sc.transform(X_test)"
   ]
  },
  {
   "cell_type": "markdown",
   "id": "82584386-bf0c-4293-bd88-978907c65c1d",
   "metadata": {},
   "source": [
    "logreg.fit(X_train, y_train)"
   ]
  },
  {
   "cell_type": "code",
   "execution_count": 12,
   "id": "ceb0b0fd-b592-4e94-b8a9-76d72aaf862d",
   "metadata": {},
   "outputs": [
    {
     "data": {
      "text/plain": [
       "LogisticRegression(max_iter=2000)"
      ]
     },
     "execution_count": 12,
     "metadata": {},
     "output_type": "execute_result"
    }
   ],
   "source": [
    "logreg.fit(X_train, y_train, )"
   ]
  },
  {
   "cell_type": "code",
   "execution_count": 13,
   "id": "6940bd7f-5cec-4067-9bae-1f3f51e64c13",
   "metadata": {},
   "outputs": [
    {
     "data": {
      "text/plain": [
       "(0.8496503496503497, 0.8868144690781797)"
      ]
     },
     "execution_count": 13,
     "metadata": {},
     "output_type": "execute_result"
    }
   ],
   "source": [
    "logreg.score(X_test, y_test), logreg.score(X_train, y_train)"
   ]
  },
  {
   "cell_type": "code",
   "execution_count": 14,
   "id": "2f0ae56d-608c-4174-bf0d-09fd0456d377",
   "metadata": {},
   "outputs": [],
   "source": [
    "coefs = pd.DataFrame(logreg.coef_).T\n",
    "coefs.columns = ['coefs']\n",
    "coefs['abs'] = abs(coefs['coefs'])\n",
    "coefs['name'] = df.drop(columns=['Attrition']).columns\n"
   ]
  },
  {
   "cell_type": "code",
   "execution_count": 15,
   "id": "32b713e4-3d00-4ecb-a431-d339e6b36125",
   "metadata": {},
   "outputs": [
    {
     "data": {
      "text/html": [
       "<div>\n",
       "<style scoped>\n",
       "    .dataframe tbody tr th:only-of-type {\n",
       "        vertical-align: middle;\n",
       "    }\n",
       "\n",
       "    .dataframe tbody tr th {\n",
       "        vertical-align: top;\n",
       "    }\n",
       "\n",
       "    .dataframe thead th {\n",
       "        text-align: right;\n",
       "    }\n",
       "</style>\n",
       "<table border=\"1\" class=\"dataframe\">\n",
       "  <thead>\n",
       "    <tr style=\"text-align: right;\">\n",
       "      <th></th>\n",
       "      <th>coefs</th>\n",
       "      <th>abs</th>\n",
       "      <th>name</th>\n",
       "    </tr>\n",
       "  </thead>\n",
       "  <tbody>\n",
       "    <tr>\n",
       "      <th>16</th>\n",
       "      <td>0.859285</td>\n",
       "      <td>0.859285</td>\n",
       "      <td>OverTime</td>\n",
       "    </tr>\n",
       "    <tr>\n",
       "      <th>27</th>\n",
       "      <td>0.700539</td>\n",
       "      <td>0.700539</td>\n",
       "      <td>YearsSinceLastPromotion</td>\n",
       "    </tr>\n",
       "    <tr>\n",
       "      <th>26</th>\n",
       "      <td>-0.597028</td>\n",
       "      <td>0.597028</td>\n",
       "      <td>YearsInCurrentRole</td>\n",
       "    </tr>\n",
       "    <tr>\n",
       "      <th>14</th>\n",
       "      <td>0.571729</td>\n",
       "      <td>0.571729</td>\n",
       "      <td>NumCompaniesWorked</td>\n",
       "    </tr>\n",
       "    <tr>\n",
       "      <th>10</th>\n",
       "      <td>-0.494627</td>\n",
       "      <td>0.494627</td>\n",
       "      <td>JobSatisfaction</td>\n",
       "    </tr>\n",
       "    <tr>\n",
       "      <th>25</th>\n",
       "      <td>0.466230</td>\n",
       "      <td>0.466230</td>\n",
       "      <td>YearsAtCompany</td>\n",
       "    </tr>\n",
       "    <tr>\n",
       "      <th>22</th>\n",
       "      <td>-0.444164</td>\n",
       "      <td>0.444164</td>\n",
       "      <td>TotalWorkingYears</td>\n",
       "    </tr>\n",
       "    <tr>\n",
       "      <th>11</th>\n",
       "      <td>-0.415167</td>\n",
       "      <td>0.415167</td>\n",
       "      <td>MaritalStatus</td>\n",
       "    </tr>\n",
       "    <tr>\n",
       "      <th>6</th>\n",
       "      <td>-0.407755</td>\n",
       "      <td>0.407755</td>\n",
       "      <td>EnvironmentSatisfaction</td>\n",
       "    </tr>\n",
       "    <tr>\n",
       "      <th>9</th>\n",
       "      <td>-0.404016</td>\n",
       "      <td>0.404016</td>\n",
       "      <td>JobLevel</td>\n",
       "    </tr>\n",
       "    <tr>\n",
       "      <th>28</th>\n",
       "      <td>-0.386100</td>\n",
       "      <td>0.386100</td>\n",
       "      <td>YearsWithCurrManager</td>\n",
       "    </tr>\n",
       "    <tr>\n",
       "      <th>0</th>\n",
       "      <td>-0.374618</td>\n",
       "      <td>0.374618</td>\n",
       "      <td>Age</td>\n",
       "    </tr>\n",
       "    <tr>\n",
       "      <th>1</th>\n",
       "      <td>0.364094</td>\n",
       "      <td>0.364094</td>\n",
       "      <td>BusinessTravel</td>\n",
       "    </tr>\n",
       "    <tr>\n",
       "      <th>8</th>\n",
       "      <td>-0.349410</td>\n",
       "      <td>0.349410</td>\n",
       "      <td>JobInvolvement</td>\n",
       "    </tr>\n",
       "    <tr>\n",
       "      <th>3</th>\n",
       "      <td>0.346777</td>\n",
       "      <td>0.346777</td>\n",
       "      <td>DistanceFromHome</td>\n",
       "    </tr>\n",
       "    <tr>\n",
       "      <th>21</th>\n",
       "      <td>-0.318938</td>\n",
       "      <td>0.318938</td>\n",
       "      <td>StockOptionLevel</td>\n",
       "    </tr>\n",
       "    <tr>\n",
       "      <th>19</th>\n",
       "      <td>-0.311991</td>\n",
       "      <td>0.311991</td>\n",
       "      <td>RelationshipSatisfaction</td>\n",
       "    </tr>\n",
       "    <tr>\n",
       "      <th>29</th>\n",
       "      <td>0.242395</td>\n",
       "      <td>0.242395</td>\n",
       "      <td>IsMale</td>\n",
       "    </tr>\n",
       "    <tr>\n",
       "      <th>23</th>\n",
       "      <td>-0.226803</td>\n",
       "      <td>0.226803</td>\n",
       "      <td>TrainingTimesLastYear</td>\n",
       "    </tr>\n",
       "    <tr>\n",
       "      <th>33</th>\n",
       "      <td>-0.216549</td>\n",
       "      <td>0.216549</td>\n",
       "      <td>EducationField_Medical</td>\n",
       "    </tr>\n",
       "    <tr>\n",
       "      <th>24</th>\n",
       "      <td>-0.214167</td>\n",
       "      <td>0.214167</td>\n",
       "      <td>WorkLifeBalance</td>\n",
       "    </tr>\n",
       "    <tr>\n",
       "      <th>35</th>\n",
       "      <td>0.181098</td>\n",
       "      <td>0.181098</td>\n",
       "      <td>EducationField_Technical Degree</td>\n",
       "    </tr>\n",
       "    <tr>\n",
       "      <th>32</th>\n",
       "      <td>0.166638</td>\n",
       "      <td>0.166638</td>\n",
       "      <td>EducationField_Marketing</td>\n",
       "    </tr>\n",
       "    <tr>\n",
       "      <th>5</th>\n",
       "      <td>-0.135695</td>\n",
       "      <td>0.135695</td>\n",
       "      <td>EmployeeNumber</td>\n",
       "    </tr>\n",
       "    <tr>\n",
       "      <th>18</th>\n",
       "      <td>-0.129564</td>\n",
       "      <td>0.129564</td>\n",
       "      <td>PerformanceRating</td>\n",
       "    </tr>\n",
       "    <tr>\n",
       "      <th>7</th>\n",
       "      <td>0.093673</td>\n",
       "      <td>0.093673</td>\n",
       "      <td>HourlyRate</td>\n",
       "    </tr>\n",
       "    <tr>\n",
       "      <th>13</th>\n",
       "      <td>-0.087507</td>\n",
       "      <td>0.087507</td>\n",
       "      <td>MonthlyRate</td>\n",
       "    </tr>\n",
       "    <tr>\n",
       "      <th>30</th>\n",
       "      <td>0.071761</td>\n",
       "      <td>0.071761</td>\n",
       "      <td>EducationField_Human Resources</td>\n",
       "    </tr>\n",
       "    <tr>\n",
       "      <th>12</th>\n",
       "      <td>-0.053288</td>\n",
       "      <td>0.053288</td>\n",
       "      <td>MonthlyIncome</td>\n",
       "    </tr>\n",
       "    <tr>\n",
       "      <th>31</th>\n",
       "      <td>-0.024381</td>\n",
       "      <td>0.024381</td>\n",
       "      <td>EducationField_Life Sciences</td>\n",
       "    </tr>\n",
       "    <tr>\n",
       "      <th>2</th>\n",
       "      <td>-0.019888</td>\n",
       "      <td>0.019888</td>\n",
       "      <td>DailyRate</td>\n",
       "    </tr>\n",
       "    <tr>\n",
       "      <th>34</th>\n",
       "      <td>-0.018860</td>\n",
       "      <td>0.018860</td>\n",
       "      <td>EducationField_Other</td>\n",
       "    </tr>\n",
       "    <tr>\n",
       "      <th>17</th>\n",
       "      <td>0.017646</td>\n",
       "      <td>0.017646</td>\n",
       "      <td>PercentSalaryHike</td>\n",
       "    </tr>\n",
       "    <tr>\n",
       "      <th>4</th>\n",
       "      <td>0.010018</td>\n",
       "      <td>0.010018</td>\n",
       "      <td>Education</td>\n",
       "    </tr>\n",
       "    <tr>\n",
       "      <th>20</th>\n",
       "      <td>0.000000</td>\n",
       "      <td>0.000000</td>\n",
       "      <td>StandardHours</td>\n",
       "    </tr>\n",
       "    <tr>\n",
       "      <th>15</th>\n",
       "      <td>0.000000</td>\n",
       "      <td>0.000000</td>\n",
       "      <td>Over18</td>\n",
       "    </tr>\n",
       "  </tbody>\n",
       "</table>\n",
       "</div>"
      ],
      "text/plain": [
       "       coefs       abs                             name\n",
       "16  0.859285  0.859285                         OverTime\n",
       "27  0.700539  0.700539          YearsSinceLastPromotion\n",
       "26 -0.597028  0.597028               YearsInCurrentRole\n",
       "14  0.571729  0.571729               NumCompaniesWorked\n",
       "10 -0.494627  0.494627                  JobSatisfaction\n",
       "25  0.466230  0.466230                   YearsAtCompany\n",
       "22 -0.444164  0.444164                TotalWorkingYears\n",
       "11 -0.415167  0.415167                    MaritalStatus\n",
       "6  -0.407755  0.407755          EnvironmentSatisfaction\n",
       "9  -0.404016  0.404016                         JobLevel\n",
       "28 -0.386100  0.386100             YearsWithCurrManager\n",
       "0  -0.374618  0.374618                              Age\n",
       "1   0.364094  0.364094                   BusinessTravel\n",
       "8  -0.349410  0.349410                   JobInvolvement\n",
       "3   0.346777  0.346777                 DistanceFromHome\n",
       "21 -0.318938  0.318938                 StockOptionLevel\n",
       "19 -0.311991  0.311991         RelationshipSatisfaction\n",
       "29  0.242395  0.242395                           IsMale\n",
       "23 -0.226803  0.226803            TrainingTimesLastYear\n",
       "33 -0.216549  0.216549           EducationField_Medical\n",
       "24 -0.214167  0.214167                  WorkLifeBalance\n",
       "35  0.181098  0.181098  EducationField_Technical Degree\n",
       "32  0.166638  0.166638         EducationField_Marketing\n",
       "5  -0.135695  0.135695                   EmployeeNumber\n",
       "18 -0.129564  0.129564                PerformanceRating\n",
       "7   0.093673  0.093673                       HourlyRate\n",
       "13 -0.087507  0.087507                      MonthlyRate\n",
       "30  0.071761  0.071761   EducationField_Human Resources\n",
       "12 -0.053288  0.053288                    MonthlyIncome\n",
       "31 -0.024381  0.024381     EducationField_Life Sciences\n",
       "2  -0.019888  0.019888                        DailyRate\n",
       "34 -0.018860  0.018860             EducationField_Other\n",
       "17  0.017646  0.017646                PercentSalaryHike\n",
       "4   0.010018  0.010018                        Education\n",
       "20  0.000000  0.000000                    StandardHours\n",
       "15  0.000000  0.000000                           Over18"
      ]
     },
     "execution_count": 15,
     "metadata": {},
     "output_type": "execute_result"
    }
   ],
   "source": [
    "coefs.sort_values('abs', ascending=False)"
   ]
  },
  {
   "cell_type": "code",
   "execution_count": 16,
   "id": "f2c9d159-dd7f-4c2c-b362-a3a74e8e5839",
   "metadata": {},
   "outputs": [
    {
     "data": {
      "text/plain": [
       "<sklearn.metrics._plot.confusion_matrix.ConfusionMatrixDisplay at 0x7fb0740e4c70>"
      ]
     },
     "execution_count": 16,
     "metadata": {},
     "output_type": "execute_result"
    },
    {
     "data": {
      "image/png": "[encoded data removed]",
      "text/plain": [
       "<Figure size 432x288 with 2 Axes>"
      ]
     },
     "metadata": {
      "needs_background": "light"
     },
     "output_type": "display_data"
    }
   ],
   "source": [
    "metrics.plot_confusion_matrix(logreg, X_test, y_test)"
   ]
  },
  {
   "cell_type": "code",
   "execution_count": 17,
   "id": "ccd34436-fe45-4595-a83b-991f8976b4d6",
   "metadata": {},
   "outputs": [],
   "source": [
    "with open('../pickles/train_test.pkl', 'wb') as pickle_out:\n",
    "    pickle.dump((X_train, X_test, y_train, y_test), pickle_out)"
   ]
  },
  {
   "cell_type": "code",
   "execution_count": 18,
   "id": "85dfc083-6c0c-416e-a1b0-4e33251364a7",
   "metadata": {},
   "outputs": [
    {
     "data": {
      "text/plain": [
       "0.39215686274509803"
      ]
     },
     "execution_count": 18,
     "metadata": {},
     "output_type": "execute_result"
    }
   ],
   "source": [
    "metrics.recall_score(y_test, logreg.predict(X_test))"
   ]
  },
  {
   "cell_type": "code",
   "execution_count": 19,
   "id": "091df798-0fa3-460c-aab3-848caecaa42f",
   "metadata": {},
   "outputs": [
    {
     "data": {
      "text/plain": [
       "0.8496503496503497"
      ]
     },
     "execution_count": 19,
     "metadata": {},
     "output_type": "execute_result"
    }
   ],
   "source": [
    "logreg.score(X_test, y_test)"
   ]
  },
  {
   "cell_type": "code",
   "execution_count": 20,
   "id": "b60ac15c-6585-4e0c-91f1-fd168766b3b0",
   "metadata": {},
   "outputs": [],
   "source": [
    "with open('../pickles/train_test_rs.pkl', 'rb') as pickle_in:\n",
    "    X_train, X_test, y_train, y_test = pickle.load(pickle_in)"
   ]
  },
  {
   "cell_type": "code",
   "execution_count": 21,
   "id": "2f5925d3-3c7f-437c-9122-730cfe557a14",
   "metadata": {},
   "outputs": [],
   "source": [
    "df2 = pd.read_csv('../data/attrition-formated.csv')\n",
    "df2.dropna(inplace=True)\n",
    "df2.drop(columns='EmployeeNumber', inplace=True)\n",
    "df['Attrition'].mean()\n",
    "sc = StandardScaler()\n",
    "df2 = pd.get_dummies(df2, columns = ['EducationField'] )\n",
    "X_train, X_test, y_train, y_test = train_test_split(df2.drop(columns=['Attrition']), df2['Attrition'], stratify = df2['Attrition'])\n",
    "X_train_df = pd.DataFrame(X_train)\n",
    "X_train_df['Attrition'] = y_train\n",
    "rs = X_train_df[X_train_df['Attrition'] == 1].sample(500, replace = True)\n",
    "\n",
    "X_train_df = pd.concat([X_train_df, rs])\n",
    "X_train_df['Attrition'].mean()\n",
    "X_train = sc.fit_transform(X_train_df.drop(columns=['Attrition']))\n",
    "y_train = X_train_df['Attrition']\n",
    "X_test = sc.transform(X_test)"
   ]
  },
  {
   "cell_type": "code",
   "execution_count": 22,
   "id": "74fc1592-c61e-4751-84d2-5ec6da0acf7e",
   "metadata": {},
   "outputs": [],
   "source": [
    "with open('../pickles/sc.pkl', 'wb') as pickle_out:\n",
    "    pickle.dump(sc, pickle_out)"
   ]
  },
  {
   "cell_type": "code",
   "execution_count": 23,
   "id": "39b25729-0fc9-46ed-a362-26354f072c61",
   "metadata": {},
   "outputs": [
    {
     "data": {
      "text/plain": [
       "Index(['Age', 'Attrition', 'BusinessTravel', 'DailyRate', 'DistanceFromHome',\n",
       "       'Education', 'EnvironmentSatisfaction', 'HourlyRate', 'JobInvolvement',\n",
       "       'JobLevel', 'JobSatisfaction', 'MaritalStatus', 'MonthlyIncome',\n",
       "       'MonthlyRate', 'NumCompaniesWorked', 'Over18', 'OverTime',\n",
       "       'PercentSalaryHike', 'PerformanceRating', 'RelationshipSatisfaction',\n",
       "       'StandardHours', 'StockOptionLevel', 'TotalWorkingYears',\n",
       "       'TrainingTimesLastYear', 'WorkLifeBalance', 'YearsAtCompany',\n",
       "       'YearsInCurrentRole', 'YearsSinceLastPromotion', 'YearsWithCurrManager',\n",
       "       'IsMale', 'EducationField_Human Resources',\n",
       "       'EducationField_Life Sciences', 'EducationField_Marketing',\n",
       "       'EducationField_Medical', 'EducationField_Other',\n",
       "       'EducationField_Technical Degree'],\n",
       "      dtype='object')"
      ]
     },
     "execution_count": 23,
     "metadata": {},
     "output_type": "execute_result"
    }
   ],
   "source": [
    "df2.columns"
   ]
  },
  {
   "cell_type": "code",
   "execution_count": 24,
   "id": "a79fa2e3-a5ff-49b7-a458-b54585821ee7",
   "metadata": {},
   "outputs": [],
   "source": [
    "with open('../pickles/train_test_rs.pkl', 'wb') as pickle_out:\n",
    "    pickle.dump((X_train, X_test, y_train, y_test), pickle_out)"
   ]
  },
  {
   "cell_type": "code",
   "execution_count": 25,
   "id": "eb1515ea-033c-4215-b75c-627b12df7387",
   "metadata": {},
   "outputs": [
    {
     "data": {
      "text/plain": [
       "LogisticRegression(max_iter=2000)"
      ]
     },
     "execution_count": 25,
     "metadata": {},
     "output_type": "execute_result"
    }
   ],
   "source": [
    "logreg.fit(X_train, y_train, )"
   ]
  },
  {
   "cell_type": "code",
   "execution_count": 26,
   "id": "c1cee58c-1b06-4129-9d0a-3289718b6f65",
   "metadata": {},
   "outputs": [
    {
     "data": {
      "text/plain": [
       "(0.7272727272727273, 0.7745025792188651)"
      ]
     },
     "execution_count": 26,
     "metadata": {},
     "output_type": "execute_result"
    }
   ],
   "source": [
    "logreg.score(X_test, y_test), logreg.score(X_train, y_train)"
   ]
  },
  {
   "cell_type": "code",
   "execution_count": 27,
   "id": "69552c75-eb95-4121-9082-8aab04ca1cff",
   "metadata": {},
   "outputs": [
    {
     "data": {
      "text/plain": [
       "0.7254901960784313"
      ]
     },
     "execution_count": 27,
     "metadata": {},
     "output_type": "execute_result"
    }
   ],
   "source": [
    "metrics.recall_score(y_test, logreg.predict(X_test))"
   ]
  }
 ],
 "metadata": {
  "kernelspec": {
   "display_name": "Python 3 (ipykernel)",
   "language": "python",
   "name": "python3"
  },
  "language_info": {
   "codemirror_mode": {
    "name": "ipython",
    "version": 3
   },
   "file_extension": ".py",
   "mimetype": "text/x-python",
   "name": "python",
   "nbconvert_exporter": "python",
   "pygments_lexer": "ipython3",
   "version": "3.8.11"
  }
 },
 "nbformat": 4,
 "nbformat_minor": 5
}
