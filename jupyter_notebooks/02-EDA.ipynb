{
 "cells": [
  {
   "cell_type": "markdown",
   "id": "3e1045e8-a541-484b-83cb-bd2c90a6b29c",
   "metadata": {},
   "source": [
    "imports"
   ]
  },
  {
   "cell_type": "code",
   "execution_count": 88,
   "id": "2ce62854-881e-4359-8176-0610fa0ce335",
   "metadata": {},
   "outputs": [],
   "source": [
    "import pandas as pd\n",
    "import matplotlib.pyplot as plt\n",
    "import seaborn as sns\n",
    "from sklearn.linear_model import LogisticRegression\n",
    "from sklearn.model_selection import train_test_split, GridSearchCV\n",
    "from sklearn.preprocessing import StandardScaler, PolynomialFeatures\n",
    "from sklearn import metrics\n",
    "from sklearn.ensemble import VotingClassifier\n",
    "import pickle\n",
    "%matplotlib inline"
   ]
  },
  {
   "cell_type": "code",
   "execution_count": null,
   "id": "1f212e11-0f91-4b8c-a533-da369fc9ce4b",
   "metadata": {},
   "outputs": [],
   "source": []
  },
  {
   "cell_type": "markdown",
   "id": "29362bf7-3f2b-4ebe-a276-970f221af3c1",
   "metadata": {},
   "source": [
    "Read data"
   ]
  },
  {
   "cell_type": "code",
   "execution_count": 89,
   "id": "760be0ae-a548-4b9b-ae5d-0d04fd87c8e3",
   "metadata": {},
   "outputs": [],
   "source": [
    "df = pd.read_csv('../data/attrition-formated.csv')"
   ]
  },
  {
   "cell_type": "markdown",
   "id": "4fbbb695-202b-40cd-aff0-4b2d59156ab2",
   "metadata": {},
   "source": [
    "prepare data"
   ]
  },
  {
   "cell_type": "code",
   "execution_count": 90,
   "id": "562c104e-9843-4a2a-926b-e1146810d796",
   "metadata": {},
   "outputs": [
    {
     "data": {
      "text/html": [
       "<div>\n",
       "<style scoped>\n",
       "    .dataframe tbody tr th:only-of-type {\n",
       "        vertical-align: middle;\n",
       "    }\n",
       "\n",
       "    .dataframe tbody tr th {\n",
       "        vertical-align: top;\n",
       "    }\n",
       "\n",
       "    .dataframe thead th {\n",
       "        text-align: right;\n",
       "    }\n",
       "</style>\n",
       "<table border=\"1\" class=\"dataframe\">\n",
       "  <thead>\n",
       "    <tr style=\"text-align: right;\">\n",
       "      <th></th>\n",
       "      <th>Age</th>\n",
       "      <th>Attrition</th>\n",
       "      <th>BusinessTravel</th>\n",
       "      <th>DailyRate</th>\n",
       "      <th>DistanceFromHome</th>\n",
       "      <th>Education</th>\n",
       "      <th>EducationField</th>\n",
       "      <th>EmployeeNumber</th>\n",
       "      <th>EnvironmentSatisfaction</th>\n",
       "      <th>HourlyRate</th>\n",
       "      <th>...</th>\n",
       "      <th>StandardHours</th>\n",
       "      <th>StockOptionLevel</th>\n",
       "      <th>TotalWorkingYears</th>\n",
       "      <th>TrainingTimesLastYear</th>\n",
       "      <th>WorkLifeBalance</th>\n",
       "      <th>YearsAtCompany</th>\n",
       "      <th>YearsInCurrentRole</th>\n",
       "      <th>YearsSinceLastPromotion</th>\n",
       "      <th>YearsWithCurrManager</th>\n",
       "      <th>IsMale</th>\n",
       "    </tr>\n",
       "  </thead>\n",
       "  <tbody>\n",
       "    <tr>\n",
       "      <th>0</th>\n",
       "      <td>41</td>\n",
       "      <td>1</td>\n",
       "      <td>1</td>\n",
       "      <td>1102</td>\n",
       "      <td>1</td>\n",
       "      <td>2</td>\n",
       "      <td>Life Sciences</td>\n",
       "      <td>1</td>\n",
       "      <td>2</td>\n",
       "      <td>94</td>\n",
       "      <td>...</td>\n",
       "      <td>80</td>\n",
       "      <td>0</td>\n",
       "      <td>8</td>\n",
       "      <td>0</td>\n",
       "      <td>1</td>\n",
       "      <td>6</td>\n",
       "      <td>4</td>\n",
       "      <td>0</td>\n",
       "      <td>5</td>\n",
       "      <td>0</td>\n",
       "    </tr>\n",
       "    <tr>\n",
       "      <th>1</th>\n",
       "      <td>49</td>\n",
       "      <td>0</td>\n",
       "      <td>2</td>\n",
       "      <td>279</td>\n",
       "      <td>8</td>\n",
       "      <td>1</td>\n",
       "      <td>Life Sciences</td>\n",
       "      <td>2</td>\n",
       "      <td>3</td>\n",
       "      <td>61</td>\n",
       "      <td>...</td>\n",
       "      <td>80</td>\n",
       "      <td>1</td>\n",
       "      <td>10</td>\n",
       "      <td>3</td>\n",
       "      <td>3</td>\n",
       "      <td>10</td>\n",
       "      <td>7</td>\n",
       "      <td>1</td>\n",
       "      <td>7</td>\n",
       "      <td>1</td>\n",
       "    </tr>\n",
       "    <tr>\n",
       "      <th>2</th>\n",
       "      <td>37</td>\n",
       "      <td>1</td>\n",
       "      <td>1</td>\n",
       "      <td>1373</td>\n",
       "      <td>2</td>\n",
       "      <td>2</td>\n",
       "      <td>Other</td>\n",
       "      <td>4</td>\n",
       "      <td>4</td>\n",
       "      <td>92</td>\n",
       "      <td>...</td>\n",
       "      <td>80</td>\n",
       "      <td>0</td>\n",
       "      <td>7</td>\n",
       "      <td>3</td>\n",
       "      <td>3</td>\n",
       "      <td>0</td>\n",
       "      <td>0</td>\n",
       "      <td>0</td>\n",
       "      <td>0</td>\n",
       "      <td>1</td>\n",
       "    </tr>\n",
       "    <tr>\n",
       "      <th>3</th>\n",
       "      <td>33</td>\n",
       "      <td>0</td>\n",
       "      <td>2</td>\n",
       "      <td>1392</td>\n",
       "      <td>3</td>\n",
       "      <td>4</td>\n",
       "      <td>Life Sciences</td>\n",
       "      <td>5</td>\n",
       "      <td>4</td>\n",
       "      <td>56</td>\n",
       "      <td>...</td>\n",
       "      <td>80</td>\n",
       "      <td>0</td>\n",
       "      <td>8</td>\n",
       "      <td>3</td>\n",
       "      <td>3</td>\n",
       "      <td>8</td>\n",
       "      <td>7</td>\n",
       "      <td>3</td>\n",
       "      <td>0</td>\n",
       "      <td>0</td>\n",
       "    </tr>\n",
       "    <tr>\n",
       "      <th>4</th>\n",
       "      <td>27</td>\n",
       "      <td>0</td>\n",
       "      <td>1</td>\n",
       "      <td>591</td>\n",
       "      <td>2</td>\n",
       "      <td>1</td>\n",
       "      <td>Medical</td>\n",
       "      <td>7</td>\n",
       "      <td>1</td>\n",
       "      <td>40</td>\n",
       "      <td>...</td>\n",
       "      <td>80</td>\n",
       "      <td>1</td>\n",
       "      <td>6</td>\n",
       "      <td>3</td>\n",
       "      <td>3</td>\n",
       "      <td>2</td>\n",
       "      <td>2</td>\n",
       "      <td>2</td>\n",
       "      <td>2</td>\n",
       "      <td>1</td>\n",
       "    </tr>\n",
       "  </tbody>\n",
       "</table>\n",
       "<p>5 rows × 32 columns</p>\n",
       "</div>"
      ],
      "text/plain": [
       "   Age  Attrition  BusinessTravel  DailyRate  DistanceFromHome  Education  \\\n",
       "0   41          1               1       1102                 1          2   \n",
       "1   49          0               2        279                 8          1   \n",
       "2   37          1               1       1373                 2          2   \n",
       "3   33          0               2       1392                 3          4   \n",
       "4   27          0               1        591                 2          1   \n",
       "\n",
       "  EducationField  EmployeeNumber  EnvironmentSatisfaction  HourlyRate  ...  \\\n",
       "0  Life Sciences               1                        2          94  ...   \n",
       "1  Life Sciences               2                        3          61  ...   \n",
       "2          Other               4                        4          92  ...   \n",
       "3  Life Sciences               5                        4          56  ...   \n",
       "4        Medical               7                        1          40  ...   \n",
       "\n",
       "   StandardHours  StockOptionLevel  TotalWorkingYears  TrainingTimesLastYear  \\\n",
       "0             80                 0                  8                      0   \n",
       "1             80                 1                 10                      3   \n",
       "2             80                 0                  7                      3   \n",
       "3             80                 0                  8                      3   \n",
       "4             80                 1                  6                      3   \n",
       "\n",
       "   WorkLifeBalance  YearsAtCompany  YearsInCurrentRole  \\\n",
       "0                1               6                   4   \n",
       "1                3              10                   7   \n",
       "2                3               0                   0   \n",
       "3                3               8                   7   \n",
       "4                3               2                   2   \n",
       "\n",
       "   YearsSinceLastPromotion  YearsWithCurrManager  IsMale  \n",
       "0                        0                     5       0  \n",
       "1                        1                     7       1  \n",
       "2                        0                     0       1  \n",
       "3                        3                     0       0  \n",
       "4                        2                     2       1  \n",
       "\n",
       "[5 rows x 32 columns]"
      ]
     },
     "execution_count": 90,
     "metadata": {},
     "output_type": "execute_result"
    }
   ],
   "source": [
    "df.head()"
   ]
  },
  {
   "cell_type": "code",
   "execution_count": 91,
   "id": "c5d1c741-f85b-40bd-89fe-ffc5cda9ba08",
   "metadata": {},
   "outputs": [
    {
     "data": {
      "text/plain": [
       "3    893\n",
       "2    344\n",
       "4    153\n",
       "1     80\n",
       "Name: WorkLifeBalance, dtype: int64"
      ]
     },
     "execution_count": 91,
     "metadata": {},
     "output_type": "execute_result"
    }
   ],
   "source": [
    "df['WorkLifeBalance'].value_counts()"
   ]
  },
  {
   "cell_type": "code",
   "execution_count": 92,
   "id": "1014a024-269e-494a-961f-fe68500ccf31",
   "metadata": {},
   "outputs": [],
   "source": [
    "df = pd.get_dummies(df, columns = ['EducationField'] )"
   ]
  },
  {
   "cell_type": "code",
   "execution_count": 93,
   "id": "e073fc35-d455-4bdb-8e52-c4cff8b8961e",
   "metadata": {},
   "outputs": [
    {
     "data": {
      "text/plain": [
       "Index(['Age', 'Attrition', 'BusinessTravel', 'DailyRate', 'DistanceFromHome',\n",
       "       'Education', 'EmployeeNumber', 'EnvironmentSatisfaction', 'HourlyRate',\n",
       "       'JobInvolvement', 'JobLevel', 'JobSatisfaction', 'MaritalStatus',\n",
       "       'MonthlyIncome', 'MonthlyRate', 'NumCompaniesWorked', 'Over18',\n",
       "       'OverTime', 'PercentSalaryHike', 'PerformanceRating',\n",
       "       'RelationshipSatisfaction', 'StandardHours', 'StockOptionLevel',\n",
       "       'TotalWorkingYears', 'TrainingTimesLastYear', 'WorkLifeBalance',\n",
       "       'YearsAtCompany', 'YearsInCurrentRole', 'YearsSinceLastPromotion',\n",
       "       'YearsWithCurrManager', 'IsMale', 'EducationField_Human Resources',\n",
       "       'EducationField_Life Sciences', 'EducationField_Marketing',\n",
       "       'EducationField_Medical', 'EducationField_Other',\n",
       "       'EducationField_Technical Degree'],\n",
       "      dtype='object')"
      ]
     },
     "execution_count": 93,
     "metadata": {},
     "output_type": "execute_result"
    }
   ],
   "source": [
    "df.columns"
   ]
  },
  {
   "cell_type": "markdown",
   "id": "0e232e10-facc-4831-92bc-f703d6a110c8",
   "metadata": {},
   "source": [
    "Correlations"
   ]
  },
  {
   "cell_type": "code",
   "execution_count": 94,
   "id": "21756e2a-cf93-45bd-8a08-201c3ee138ee",
   "metadata": {},
   "outputs": [
    {
     "data": {
      "image/png": "[encoded data removed]",
      "text/plain": [
       "<Figure size 720x720 with 2 Axes>"
      ]
     },
     "metadata": {
      "needs_background": "light"
     },
     "output_type": "display_data"
    }
   ],
   "source": [
    "c = df.corr()\n",
    "plt.figure(figsize=(10,10))\n",
    "sns.heatmap(c[['Attrition']].sort_values('Attrition', ascending = False),annot=True);\n",
    "plt.title('Correlation with Attrition')\n",
    "plt.tight_layout()\n",
    "plt.savefig('../output/heatmap.png');\n"
   ]
  },
  {
   "cell_type": "code",
   "execution_count": 95,
   "id": "6085b181-1306-45bb-b49c-e48c7c69af2b",
   "metadata": {},
   "outputs": [
    {
     "data": {
      "text/plain": [
       "<AxesSubplot:xlabel='DistanceFromHome', ylabel='Attrition'>"
      ]
     },
     "execution_count": 95,
     "metadata": {},
     "output_type": "execute_result"
    },
    {
     "data": {
      "image/png": "[encoded data removed]",
      "text/plain": [
       "<Figure size 720x360 with 1 Axes>"
      ]
     },
     "metadata": {
      "needs_background": "light"
     },
     "output_type": "display_data"
    }
   ],
   "source": [
    "plt.figure(figsize=(10,5))\n",
    "sns.barplot(x = 'DistanceFromHome', y = 'Attrition', data=df)\n"
   ]
  },
  {
   "cell_type": "code",
   "execution_count": 96,
   "id": "28c69b09-b1d6-4214-a5e4-72ee541f4ff9",
   "metadata": {},
   "outputs": [
    {
     "data": {
      "text/plain": [
       "<AxesSubplot:xlabel='DistanceFromHome', ylabel='Attrition'>"
      ]
     },
     "execution_count": 96,
     "metadata": {},
     "output_type": "execute_result"
    },
    {
     "data": {
      "image/png": "[encoded data removed]",
      "text/plain": [
       "<Figure size 720x360 with 1 Axes>"
      ]
     },
     "metadata": {
      "needs_background": "light"
     },
     "output_type": "display_data"
    }
   ],
   "source": [
    "plt.figure(figsize=(10,5))\n",
    "sns.barplot(x = 'DistanceFromHome', y = 'Attrition', data=df, fill=True)"
   ]
  },
  {
   "cell_type": "code",
   "execution_count": 97,
   "id": "f65b79bf-1da1-4073-856b-4e58716b3f8b",
   "metadata": {},
   "outputs": [
    {
     "data": {
      "text/plain": [
       "<AxesSubplot:xlabel='HourlyRate', ylabel='Attrition'>"
      ]
     },
     "execution_count": 97,
     "metadata": {},
     "output_type": "execute_result"
    },
    {
     "data": {
      "image/png": "[encoded data removed]",
      "text/plain": [
       "<Figure size 720x360 with 1 Axes>"
      ]
     },
     "metadata": {
      "needs_background": "light"
     },
     "output_type": "display_data"
    }
   ],
   "source": [
    "plt.figure(figsize=(10,5))\n",
    "sns.barplot(x = 'HourlyRate', y = 'Attrition', data=df, fill=True)"
   ]
  },
  {
   "cell_type": "code",
   "execution_count": 98,
   "id": "dabb994a-a317-4bd3-92bf-cfe539c5f0c6",
   "metadata": {},
   "outputs": [
    {
     "data": {
      "image/png": "[encoded data removed]",
      "text/plain": [
       "<Figure size 720x360 with 1 Axes>"
      ]
     },
     "metadata": {
      "needs_background": "light"
     },
     "output_type": "display_data"
    }
   ],
   "source": [
    "plt.figure(figsize=(10,5))\n",
    "plt.title('Attrition vs Total Working Years')\n",
    "sns.barplot(x = 'TotalWorkingYears', y = 'Attrition', data=df);\n",
    "plt.tight_layout()\n",
    "plt.savefig('../output/attr-vs-work.png');"
   ]
  },
  {
   "cell_type": "code",
   "execution_count": 99,
   "id": "ab52e7cf-f068-41f1-87ee-1bf0d758b183",
   "metadata": {},
   "outputs": [
    {
     "data": {
      "text/plain": [
       "<AxesSubplot:xlabel='YearsInCurrentRole', ylabel='Attrition'>"
      ]
     },
     "execution_count": 99,
     "metadata": {},
     "output_type": "execute_result"
    },
    {
     "data": {
      "image/png": "[encoded data removed]",
      "text/plain": [
       "<Figure size 720x360 with 1 Axes>"
      ]
     },
     "metadata": {
      "needs_background": "light"
     },
     "output_type": "display_data"
    }
   ],
   "source": [
    "plt.figure(figsize=(10,5))\n",
    "sns.barplot(x = 'YearsInCurrentRole', y = 'Attrition', data=df)"
   ]
  },
  {
   "cell_type": "markdown",
   "id": "e79e1c4b-af9f-452c-973c-c99cd2f842dc",
   "metadata": {},
   "source": [
    "None of the observed datapoints have a very strong pearson correlation with attrition, however looking at individual plots was helpful. The below plots were generated by the application."
   ]
  },
  {
   "cell_type": "markdown",
   "id": "84f42bf6-bc1b-41f2-b819-278dfd2f1c51",
   "metadata": {},
   "source": [
    "<img src='../output/attrition-vs-age.png' ></img>\n",
    "<img src='../output/income.png' ></img>\n",
    "<img src='../output/income.png' ></img>\n",
    "<img src='../output/education.png' ></img>"
   ]
  },
  {
   "cell_type": "markdown",
   "id": "7493bf43-67f3-4187-b187-b26fad050d0b",
   "metadata": {},
   "source": [
    "<h2>Initial Modeling</h2>"
   ]
  },
  {
   "cell_type": "code",
   "execution_count": 100,
   "id": "71c50ede-39f3-4f5e-9afb-9ec50c987a78",
   "metadata": {},
   "outputs": [],
   "source": [
    "df.dropna(inplace=True)"
   ]
  },
  {
   "cell_type": "code",
   "execution_count": null,
   "id": "03918401-fab0-47df-a9d9-08bbf67acdc0",
   "metadata": {},
   "outputs": [],
   "source": [
    "logreg = LogisticRegression(max_iter = 2000 )\n",
    "sc = StandardScaler()\n",
    "X_train, X_test, y_train, y_test = train_test_split(df.drop(columns=['Attrition']), df['Attrition'], stratify = df['Attrition'])\n",
    "X_train = sc.fit_transform(X_train)\n",
    "X_test = sc.transform(X_test)"
   ]
  },
  {
   "cell_type": "markdown",
   "id": "82584386-bf0c-4293-bd88-978907c65c1d",
   "metadata": {},
   "source": [
    "logreg.fit(X_train, y_train)"
   ]
  },
  {
   "cell_type": "code",
   "execution_count": 102,
   "id": "ceb0b0fd-b592-4e94-b8a9-76d72aaf862d",
   "metadata": {},
   "outputs": [
    {
     "data": {
      "text/plain": [
       "LogisticRegression(max_iter=2000)"
      ]
     },
     "execution_count": 102,
     "metadata": {},
     "output_type": "execute_result"
    }
   ],
   "source": [
    "logreg.fit(X_train, y_train, )"
   ]
  },
  {
   "cell_type": "code",
   "execution_count": 103,
   "id": "6940bd7f-5cec-4067-9bae-1f3f51e64c13",
   "metadata": {},
   "outputs": [
    {
     "data": {
      "text/plain": [
       "(0.8986013986013986, 0.8798133022170361)"
      ]
     },
     "execution_count": 103,
     "metadata": {},
     "output_type": "execute_result"
    }
   ],
   "source": [
    "logreg.score(X_test, y_test), logreg.score(X_train, y_train)"
   ]
  },
  {
   "cell_type": "code",
   "execution_count": 104,
   "id": "2f0ae56d-608c-4174-bf0d-09fd0456d377",
   "metadata": {},
   "outputs": [],
   "source": [
    "coefs = pd.DataFrame(logreg.coef_).T\n",
    "coefs.columns = ['coefs']\n",
    "coefs['abs'] = abs(coefs['coefs'])\n",
    "coefs['name'] = df.drop(columns=['Attrition']).columns\n"
   ]
  },
  {
   "cell_type": "code",
   "execution_count": 105,
   "id": "32b713e4-3d00-4ecb-a431-d339e6b36125",
   "metadata": {},
   "outputs": [
    {
     "data": {
      "text/html": [
       "<div>\n",
       "<style scoped>\n",
       "    .dataframe tbody tr th:only-of-type {\n",
       "        vertical-align: middle;\n",
       "    }\n",
       "\n",
       "    .dataframe tbody tr th {\n",
       "        vertical-align: top;\n",
       "    }\n",
       "\n",
       "    .dataframe thead th {\n",
       "        text-align: right;\n",
       "    }\n",
       "</style>\n",
       "<table border=\"1\" class=\"dataframe\">\n",
       "  <thead>\n",
       "    <tr style=\"text-align: right;\">\n",
       "      <th></th>\n",
       "      <th>coefs</th>\n",
       "      <th>abs</th>\n",
       "      <th>name</th>\n",
       "    </tr>\n",
       "  </thead>\n",
       "  <tbody>\n",
       "    <tr>\n",
       "      <th>16</th>\n",
       "      <td>0.763954</td>\n",
       "      <td>0.763954</td>\n",
       "      <td>OverTime</td>\n",
       "    </tr>\n",
       "    <tr>\n",
       "      <th>26</th>\n",
       "      <td>-0.659526</td>\n",
       "      <td>0.659526</td>\n",
       "      <td>YearsInCurrentRole</td>\n",
       "    </tr>\n",
       "    <tr>\n",
       "      <th>22</th>\n",
       "      <td>-0.530455</td>\n",
       "      <td>0.530455</td>\n",
       "      <td>TotalWorkingYears</td>\n",
       "    </tr>\n",
       "    <tr>\n",
       "      <th>10</th>\n",
       "      <td>-0.489397</td>\n",
       "      <td>0.489397</td>\n",
       "      <td>JobSatisfaction</td>\n",
       "    </tr>\n",
       "    <tr>\n",
       "      <th>25</th>\n",
       "      <td>0.438379</td>\n",
       "      <td>0.438379</td>\n",
       "      <td>YearsAtCompany</td>\n",
       "    </tr>\n",
       "    <tr>\n",
       "      <th>3</th>\n",
       "      <td>0.367545</td>\n",
       "      <td>0.367545</td>\n",
       "      <td>DistanceFromHome</td>\n",
       "    </tr>\n",
       "    <tr>\n",
       "      <th>1</th>\n",
       "      <td>0.363056</td>\n",
       "      <td>0.363056</td>\n",
       "      <td>BusinessTravel</td>\n",
       "    </tr>\n",
       "    <tr>\n",
       "      <th>27</th>\n",
       "      <td>0.355460</td>\n",
       "      <td>0.355460</td>\n",
       "      <td>YearsSinceLastPromotion</td>\n",
       "    </tr>\n",
       "    <tr>\n",
       "      <th>11</th>\n",
       "      <td>-0.322608</td>\n",
       "      <td>0.322608</td>\n",
       "      <td>MaritalStatus</td>\n",
       "    </tr>\n",
       "    <tr>\n",
       "      <th>8</th>\n",
       "      <td>-0.306831</td>\n",
       "      <td>0.306831</td>\n",
       "      <td>JobInvolvement</td>\n",
       "    </tr>\n",
       "    <tr>\n",
       "      <th>14</th>\n",
       "      <td>0.303830</td>\n",
       "      <td>0.303830</td>\n",
       "      <td>NumCompaniesWorked</td>\n",
       "    </tr>\n",
       "    <tr>\n",
       "      <th>21</th>\n",
       "      <td>-0.302845</td>\n",
       "      <td>0.302845</td>\n",
       "      <td>StockOptionLevel</td>\n",
       "    </tr>\n",
       "    <tr>\n",
       "      <th>6</th>\n",
       "      <td>-0.296510</td>\n",
       "      <td>0.296510</td>\n",
       "      <td>EnvironmentSatisfaction</td>\n",
       "    </tr>\n",
       "    <tr>\n",
       "      <th>19</th>\n",
       "      <td>-0.277360</td>\n",
       "      <td>0.277360</td>\n",
       "      <td>RelationshipSatisfaction</td>\n",
       "    </tr>\n",
       "    <tr>\n",
       "      <th>12</th>\n",
       "      <td>-0.253321</td>\n",
       "      <td>0.253321</td>\n",
       "      <td>MonthlyIncome</td>\n",
       "    </tr>\n",
       "    <tr>\n",
       "      <th>0</th>\n",
       "      <td>-0.222202</td>\n",
       "      <td>0.222202</td>\n",
       "      <td>Age</td>\n",
       "    </tr>\n",
       "    <tr>\n",
       "      <th>29</th>\n",
       "      <td>0.200015</td>\n",
       "      <td>0.200015</td>\n",
       "      <td>IsMale</td>\n",
       "    </tr>\n",
       "    <tr>\n",
       "      <th>35</th>\n",
       "      <td>0.168708</td>\n",
       "      <td>0.168708</td>\n",
       "      <td>EducationField_Technical Degree</td>\n",
       "    </tr>\n",
       "    <tr>\n",
       "      <th>32</th>\n",
       "      <td>0.167674</td>\n",
       "      <td>0.167674</td>\n",
       "      <td>EducationField_Marketing</td>\n",
       "    </tr>\n",
       "    <tr>\n",
       "      <th>28</th>\n",
       "      <td>-0.158398</td>\n",
       "      <td>0.158398</td>\n",
       "      <td>YearsWithCurrManager</td>\n",
       "    </tr>\n",
       "    <tr>\n",
       "      <th>33</th>\n",
       "      <td>-0.149839</td>\n",
       "      <td>0.149839</td>\n",
       "      <td>EducationField_Medical</td>\n",
       "    </tr>\n",
       "    <tr>\n",
       "      <th>24</th>\n",
       "      <td>-0.147780</td>\n",
       "      <td>0.147780</td>\n",
       "      <td>WorkLifeBalance</td>\n",
       "    </tr>\n",
       "    <tr>\n",
       "      <th>5</th>\n",
       "      <td>-0.138765</td>\n",
       "      <td>0.138765</td>\n",
       "      <td>EmployeeNumber</td>\n",
       "    </tr>\n",
       "    <tr>\n",
       "      <th>23</th>\n",
       "      <td>-0.118395</td>\n",
       "      <td>0.118395</td>\n",
       "      <td>TrainingTimesLastYear</td>\n",
       "    </tr>\n",
       "    <tr>\n",
       "      <th>7</th>\n",
       "      <td>0.108904</td>\n",
       "      <td>0.108904</td>\n",
       "      <td>HourlyRate</td>\n",
       "    </tr>\n",
       "    <tr>\n",
       "      <th>34</th>\n",
       "      <td>-0.097428</td>\n",
       "      <td>0.097428</td>\n",
       "      <td>EducationField_Other</td>\n",
       "    </tr>\n",
       "    <tr>\n",
       "      <th>30</th>\n",
       "      <td>0.085319</td>\n",
       "      <td>0.085319</td>\n",
       "      <td>EducationField_Human Resources</td>\n",
       "    </tr>\n",
       "    <tr>\n",
       "      <th>2</th>\n",
       "      <td>-0.071619</td>\n",
       "      <td>0.071619</td>\n",
       "      <td>DailyRate</td>\n",
       "    </tr>\n",
       "    <tr>\n",
       "      <th>13</th>\n",
       "      <td>-0.057285</td>\n",
       "      <td>0.057285</td>\n",
       "      <td>MonthlyRate</td>\n",
       "    </tr>\n",
       "    <tr>\n",
       "      <th>31</th>\n",
       "      <td>-0.043257</td>\n",
       "      <td>0.043257</td>\n",
       "      <td>EducationField_Life Sciences</td>\n",
       "    </tr>\n",
       "    <tr>\n",
       "      <th>9</th>\n",
       "      <td>-0.036573</td>\n",
       "      <td>0.036573</td>\n",
       "      <td>JobLevel</td>\n",
       "    </tr>\n",
       "    <tr>\n",
       "      <th>17</th>\n",
       "      <td>0.031391</td>\n",
       "      <td>0.031391</td>\n",
       "      <td>PercentSalaryHike</td>\n",
       "    </tr>\n",
       "    <tr>\n",
       "      <th>18</th>\n",
       "      <td>-0.013286</td>\n",
       "      <td>0.013286</td>\n",
       "      <td>PerformanceRating</td>\n",
       "    </tr>\n",
       "    <tr>\n",
       "      <th>4</th>\n",
       "      <td>0.002906</td>\n",
       "      <td>0.002906</td>\n",
       "      <td>Education</td>\n",
       "    </tr>\n",
       "    <tr>\n",
       "      <th>15</th>\n",
       "      <td>0.000000</td>\n",
       "      <td>0.000000</td>\n",
       "      <td>Over18</td>\n",
       "    </tr>\n",
       "    <tr>\n",
       "      <th>20</th>\n",
       "      <td>0.000000</td>\n",
       "      <td>0.000000</td>\n",
       "      <td>StandardHours</td>\n",
       "    </tr>\n",
       "  </tbody>\n",
       "</table>\n",
       "</div>"
      ],
      "text/plain": [
       "       coefs       abs                             name\n",
       "16  0.763954  0.763954                         OverTime\n",
       "26 -0.659526  0.659526               YearsInCurrentRole\n",
       "22 -0.530455  0.530455                TotalWorkingYears\n",
       "10 -0.489397  0.489397                  JobSatisfaction\n",
       "25  0.438379  0.438379                   YearsAtCompany\n",
       "3   0.367545  0.367545                 DistanceFromHome\n",
       "1   0.363056  0.363056                   BusinessTravel\n",
       "27  0.355460  0.355460          YearsSinceLastPromotion\n",
       "11 -0.322608  0.322608                    MaritalStatus\n",
       "8  -0.306831  0.306831                   JobInvolvement\n",
       "14  0.303830  0.303830               NumCompaniesWorked\n",
       "21 -0.302845  0.302845                 StockOptionLevel\n",
       "6  -0.296510  0.296510          EnvironmentSatisfaction\n",
       "19 -0.277360  0.277360         RelationshipSatisfaction\n",
       "12 -0.253321  0.253321                    MonthlyIncome\n",
       "0  -0.222202  0.222202                              Age\n",
       "29  0.200015  0.200015                           IsMale\n",
       "35  0.168708  0.168708  EducationField_Technical Degree\n",
       "32  0.167674  0.167674         EducationField_Marketing\n",
       "28 -0.158398  0.158398             YearsWithCurrManager\n",
       "33 -0.149839  0.149839           EducationField_Medical\n",
       "24 -0.147780  0.147780                  WorkLifeBalance\n",
       "5  -0.138765  0.138765                   EmployeeNumber\n",
       "23 -0.118395  0.118395            TrainingTimesLastYear\n",
       "7   0.108904  0.108904                       HourlyRate\n",
       "34 -0.097428  0.097428             EducationField_Other\n",
       "30  0.085319  0.085319   EducationField_Human Resources\n",
       "2  -0.071619  0.071619                        DailyRate\n",
       "13 -0.057285  0.057285                      MonthlyRate\n",
       "31 -0.043257  0.043257     EducationField_Life Sciences\n",
       "9  -0.036573  0.036573                         JobLevel\n",
       "17  0.031391  0.031391                PercentSalaryHike\n",
       "18 -0.013286  0.013286                PerformanceRating\n",
       "4   0.002906  0.002906                        Education\n",
       "15  0.000000  0.000000                           Over18\n",
       "20  0.000000  0.000000                    StandardHours"
      ]
     },
     "execution_count": 105,
     "metadata": {},
     "output_type": "execute_result"
    }
   ],
   "source": [
    "coefs.sort_values('abs', ascending=False)"
   ]
  },
  {
   "cell_type": "code",
   "execution_count": 106,
   "id": "f2c9d159-dd7f-4c2c-b362-a3a74e8e5839",
   "metadata": {},
   "outputs": [
    {
     "data": {
      "text/plain": [
       "<sklearn.metrics._plot.confusion_matrix.ConfusionMatrixDisplay at 0x7f1aa8c52730>"
      ]
     },
     "execution_count": 106,
     "metadata": {},
     "output_type": "execute_result"
    },
    {
     "data": {
      "image/png": "[encoded data removed]",
      "text/plain": [
       "<Figure size 432x288 with 2 Axes>"
      ]
     },
     "metadata": {
      "needs_background": "light"
     },
     "output_type": "display_data"
    }
   ],
   "source": [
    "metrics.plot_confusion_matrix(logreg, X_test, y_test)"
   ]
  },
  {
   "cell_type": "code",
   "execution_count": 107,
   "id": "ccd34436-fe45-4595-a83b-991f8976b4d6",
   "metadata": {},
   "outputs": [],
   "source": [
    "with open('../pickles/train_test.pkl', 'wb') as pickle_out:\n",
    "    pickle.dump((X_train, X_test, y_train, y_test), pickle_out)"
   ]
  },
  {
   "cell_type": "code",
   "execution_count": 108,
   "id": "85dfc083-6c0c-416e-a1b0-4e33251364a7",
   "metadata": {},
   "outputs": [
    {
     "data": {
      "text/plain": [
       "0.5686274509803921"
      ]
     },
     "execution_count": 108,
     "metadata": {},
     "output_type": "execute_result"
    }
   ],
   "source": [
    "metrics.recall_score(y_test, logreg.predict(X_test))"
   ]
  },
  {
   "cell_type": "code",
   "execution_count": 109,
   "id": "091df798-0fa3-460c-aab3-848caecaa42f",
   "metadata": {},
   "outputs": [
    {
     "data": {
      "text/plain": [
       "0.8986013986013986"
      ]
     },
     "execution_count": 109,
     "metadata": {},
     "output_type": "execute_result"
    }
   ],
   "source": [
    "logreg.score(X_test, y_test)"
   ]
  },
  {
   "cell_type": "code",
   "execution_count": 110,
   "id": "b60ac15c-6585-4e0c-91f1-fd168766b3b0",
   "metadata": {},
   "outputs": [],
   "source": [
    "with open('../pickles/train_test_rs.pkl', 'rb') as pickle_in:\n",
    "    X_train, X_test, y_train, y_test = pickle.load(pickle_in)"
   ]
  },
  {
   "cell_type": "code",
   "execution_count": 111,
   "id": "2f5925d3-3c7f-437c-9122-730cfe557a14",
   "metadata": {},
   "outputs": [],
   "source": [
    "df2 = pd.read_csv('../data/attrition-formated.csv')\n",
    "df2.dropna(inplace=True)\n",
    "df2.drop(columns='EmployeeNumber', inplace=True)\n",
    "df['Attrition'].mean()\n",
    "sc = StandardScaler()\n",
    "df2 = pd.get_dummies(df2, columns = ['EducationField'] )\n",
    "X_train, X_test, y_train, y_test = train_test_split(df2.drop(columns=['Attrition']), df2['Attrition'], stratify = df2['Attrition'])\n",
    "X_train_df = pd.DataFrame(X_train)\n",
    "X_train_df['Attrition'] = y_train\n",
    "rs = X_train_df[X_train_df['Attrition'] == 1].sample(500, replace = True)\n",
    "\n",
    "X_train_df = pd.concat([X_train_df, rs])\n",
    "X_train_df['Attrition'].mean()\n",
    "X_train = sc.fit_transform(X_train_df.drop(columns=['Attrition']))\n",
    "y_train = X_train_df['Attrition']\n",
    "X_test = sc.transform(X_test)"
   ]
  },
  {
   "cell_type": "code",
   "execution_count": 112,
   "id": "74fc1592-c61e-4751-84d2-5ec6da0acf7e",
   "metadata": {},
   "outputs": [],
   "source": [
    "with open('../pickles/sc.pkl', 'wb') as pickle_out:\n",
    "    pickle.dump(sc, pickle_out)"
   ]
  },
  {
   "cell_type": "code",
   "execution_count": 113,
   "id": "39b25729-0fc9-46ed-a362-26354f072c61",
   "metadata": {},
   "outputs": [
    {
     "data": {
      "text/plain": [
       "Index(['Age', 'Attrition', 'BusinessTravel', 'DailyRate', 'DistanceFromHome',\n",
       "       'Education', 'EnvironmentSatisfaction', 'HourlyRate', 'JobInvolvement',\n",
       "       'JobLevel', 'JobSatisfaction', 'MaritalStatus', 'MonthlyIncome',\n",
       "       'MonthlyRate', 'NumCompaniesWorked', 'Over18', 'OverTime',\n",
       "       'PercentSalaryHike', 'PerformanceRating', 'RelationshipSatisfaction',\n",
       "       'StandardHours', 'StockOptionLevel', 'TotalWorkingYears',\n",
       "       'TrainingTimesLastYear', 'WorkLifeBalance', 'YearsAtCompany',\n",
       "       'YearsInCurrentRole', 'YearsSinceLastPromotion', 'YearsWithCurrManager',\n",
       "       'IsMale', 'EducationField_Human Resources',\n",
       "       'EducationField_Life Sciences', 'EducationField_Marketing',\n",
       "       'EducationField_Medical', 'EducationField_Other',\n",
       "       'EducationField_Technical Degree'],\n",
       "      dtype='object')"
      ]
     },
     "execution_count": 113,
     "metadata": {},
     "output_type": "execute_result"
    }
   ],
   "source": [
    "df2.columns"
   ]
  },
  {
   "cell_type": "code",
   "execution_count": 114,
   "id": "a79fa2e3-a5ff-49b7-a458-b54585821ee7",
   "metadata": {},
   "outputs": [],
   "source": [
    "with open('../pickles/train_test_rs.pkl', 'wb') as pickle_out:\n",
    "    pickle.dump((X_train, X_test, y_train, y_test), pickle_out)"
   ]
  },
  {
   "cell_type": "code",
   "execution_count": 115,
   "id": "eb1515ea-033c-4215-b75c-627b12df7387",
   "metadata": {},
   "outputs": [
    {
     "data": {
      "text/plain": [
       "LogisticRegression(max_iter=2000)"
      ]
     },
     "execution_count": 115,
     "metadata": {},
     "output_type": "execute_result"
    }
   ],
   "source": [
    "logreg.fit(X_train, y_train, )"
   ]
  },
  {
   "cell_type": "code",
   "execution_count": 116,
   "id": "c1cee58c-1b06-4129-9d0a-3289718b6f65",
   "metadata": {},
   "outputs": [
    {
     "data": {
      "text/plain": [
       "(0.7447552447552448, 0.7877671333824613)"
      ]
     },
     "execution_count": 116,
     "metadata": {},
     "output_type": "execute_result"
    }
   ],
   "source": [
    "logreg.score(X_test, y_test), logreg.score(X_train, y_train)"
   ]
  },
  {
   "cell_type": "code",
   "execution_count": 117,
   "id": "69552c75-eb95-4121-9082-8aab04ca1cff",
   "metadata": {},
   "outputs": [
    {
     "data": {
      "text/plain": [
       "0.7058823529411765"
      ]
     },
     "execution_count": 117,
     "metadata": {},
     "output_type": "execute_result"
    }
   ],
   "source": [
    "metrics.recall_score(y_test, logreg.predict(X_test))"
   ]
  },
  {
   "cell_type": "code",
   "execution_count": 118,
   "id": "0dc28659-f2bd-43a5-991a-46bd584499e7",
   "metadata": {},
   "outputs": [
    {
     "data": {
      "text/plain": [
       "0.776416539050536"
      ]
     },
     "execution_count": 118,
     "metadata": {},
     "output_type": "execute_result"
    }
   ],
   "source": [
    "metrics.recall_score(y_train, logreg.predict(X_train))"
   ]
  },
  {
   "cell_type": "code",
   "execution_count": 119,
   "id": "755b368b-d9e1-4615-8ca9-a5135f3d7e2f",
   "metadata": {},
   "outputs": [
    {
     "data": {
      "image/png": "[encoded data removed]",
      "text/plain": [
       "<Figure size 432x288 with 2 Axes>"
      ]
     },
     "metadata": {
      "needs_background": "light"
     },
     "output_type": "display_data"
    }
   ],
   "source": [
    "metrics.plot_confusion_matrix(logreg, X_test, y_test)\n",
    "plt.title('Logistic Regression Confusion plot')\n",
    "plt.savefig('../output/logreg.png')"
   ]
  },
  {
   "cell_type": "code",
   "execution_count": 120,
   "id": "8a0ab5bd-5db2-4719-9bef-d2ee0c4adcbd",
   "metadata": {},
   "outputs": [
    {
     "data": {
      "text/plain": [
       "0    235\n",
       "1     51\n",
       "Name: Attrition, dtype: int64"
      ]
     },
     "execution_count": 120,
     "metadata": {},
     "output_type": "execute_result"
    }
   ],
   "source": [
    "y_test.value_counts()"
   ]
  },
  {
   "cell_type": "code",
   "execution_count": 121,
   "id": "1d0d8bb6-74fc-4787-b6a5-cd9bc45fb1f8",
   "metadata": {},
   "outputs": [
    {
     "data": {
      "text/plain": [
       "<sklearn.metrics._plot.confusion_matrix.ConfusionMatrixDisplay at 0x7f1aa4e6cb50>"
      ]
     },
     "execution_count": 121,
     "metadata": {},
     "output_type": "execute_result"
    },
    {
     "data": {
      "image/png": "[encoded data removed]",
      "text/plain": [
       "<Figure size 432x288 with 2 Axes>"
      ]
     },
     "metadata": {
      "needs_background": "light"
     },
     "output_type": "display_data"
    }
   ],
   "source": [
    "import warnings\n",
    "warnings.filterwarnings('ignore')\n",
    "pf = PolynomialFeatures(3)\n",
    "X_tr = pf.fit_transform(X_train)\n",
    "X_te= pf.transform(X_test)\n",
    "logreg = LogisticRegression()\n",
    "params = {\n",
    "    'penalty': ['l2'],\n",
    "    'C':[0.5, 1,]\n",
    "    \n",
    "     \n",
    "\n",
    "}\n",
    "\n",
    "\n",
    "gs = GridSearchCV(logreg,params,scoring=metrics.recall_score )\n",
    "gs.fit(X_tr, y_train)\n",
    "metrics.recall_score(y_test, gs.predict(X_te)), metrics.accuracy_score(y_test, gs.predict(X_te)), gs.best_params_\n",
    "metrics.plot_confusion_matrix(gs, X_te, y_test)"
   ]
  },
  {
   "cell_type": "code",
   "execution_count": 122,
   "id": "6650b418-d8ea-40f9-8cec-f0acd890044c",
   "metadata": {},
   "outputs": [
    {
     "data": {
      "text/plain": [
       "GridSearchCV(estimator=VotingClassifier(estimators=[('logreg',\n",
       "                                                     LogisticRegression()),\n",
       "                                                    ('gs',\n",
       "                                                     LogisticRegression(C=0.5))],\n",
       "                                        voting='soft'),\n",
       "             param_grid={'gs__C': [0.5, 1], 'gs__penalty': ['l2']},\n",
       "             scoring=<function recall_score at 0x7f1aa93c6f70>)"
      ]
     },
     "execution_count": 122,
     "metadata": {},
     "output_type": "execute_result"
    }
   ],
   "source": [
    "logreg2 = LogisticRegression(C=0.5)\n",
    "vc = VotingClassifier([('logreg',logreg), ('gs',logreg2)], 'soft')\n",
    "pf = PolynomialFeatures(3)\n",
    "X_tr = pf.fit_transform(X_train)\n",
    "X_te= pf.transform(X_test)\n",
    "logreg = LogisticRegression()\n",
    "params = {\n",
    "    'gs__penalty': ['l2'],\n",
    "    'gs__C':[0.5, 1,]\n",
    "    \n",
    "     \n",
    "\n",
    "}\n",
    "\n",
    "\n",
    "gs = GridSearchCV(vc,params,scoring=metrics.recall_score )\n",
    "gs.fit(X_tr, y_train)\n"
   ]
  },
  {
   "cell_type": "code",
   "execution_count": 123,
   "id": "a888c936-04db-4d2d-8449-ac6b0718d7b0",
   "metadata": {},
   "outputs": [
    {
     "data": {
      "text/plain": [
       "(0.35294117647058826, 0.8391608391608392)"
      ]
     },
     "execution_count": 123,
     "metadata": {},
     "output_type": "execute_result"
    },
    {
     "data": {
      "image/png": "[encoded data removed]",
      "text/plain": [
       "<Figure size 432x288 with 2 Axes>"
      ]
     },
     "metadata": {
      "needs_background": "light"
     },
     "output_type": "display_data"
    }
   ],
   "source": [
    "\n",
    "metrics.plot_confusion_matrix(gs, X_te, y_test)\n",
    "metrics.recall_score(y_test, gs.predict(X_te)), metrics.accuracy_score(y_test, gs.predict(X_te))"
   ]
  },
  {
   "cell_type": "code",
   "execution_count": null,
   "id": "c022e502-a02a-4240-a135-ca7305f19e7b",
   "metadata": {},
   "outputs": [],
   "source": []
  },
  {
   "cell_type": "code",
   "execution_count": null,
   "id": "e37255f5-3147-4c98-aaa6-dc1f7c0fac2a",
   "metadata": {},
   "outputs": [],
   "source": [
    "metrics.plot_confusion_matrix(gs, X_test, y_test)"
   ]
  },
  {
   "cell_type": "code",
   "execution_count": null,
   "id": "324f68db-fae8-45b2-9c2b-18088434e993",
   "metadata": {},
   "outputs": [],
   "source": [
    "import cgoss"
   ]
  }
 ],
 "metadata": {
  "kernelspec": {
   "display_name": "Python 3 (ipykernel)",
   "language": "python",
   "name": "python3"
  },
  "language_info": {
   "codemirror_mode": {
    "name": "ipython",
    "version": 3
   },
   "file_extension": ".py",
   "mimetype": "text/x-python",
   "name": "python",
   "nbconvert_exporter": "python",
   "pygments_lexer": "ipython3",
   "version": "3.8.11"
  }
 },
 "nbformat": 4,
 "nbformat_minor": 5
}
