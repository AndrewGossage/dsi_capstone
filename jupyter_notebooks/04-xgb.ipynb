{
 "cells": [
  {
   "cell_type": "code",
   "execution_count": 63,
   "id": "f6fe1b0a-2697-491d-bfca-96ae260b78a5",
   "metadata": {},
   "outputs": [],
   "source": [
    "import xgboost as xgb\n",
    "from sklearn import metrics\n",
    "import pandas as pd\n",
    "import matplotlib.pyplot as plt\n",
    "import seaborn as sns\n",
    "import pickle"
   ]
  },
  {
   "cell_type": "code",
   "execution_count": 64,
   "id": "f67e0b1c-71bd-4364-b166-6feee4b08224",
   "metadata": {},
   "outputs": [],
   "source": [
    "with open('../pickles/train_test_rs.pkl', 'rb') as pickle_in:\n",
    "    X_train, X_test, y_train, y_test = pickle.load(pickle_in)"
   ]
  },
  {
   "cell_type": "code",
   "execution_count": 65,
   "id": "f5249f27-e16a-4ef4-aacc-1b9a1b2a2f59",
   "metadata": {},
   "outputs": [
    {
     "name": "stdout",
     "output_type": "stream",
     "text": [
      "[16:42:51] WARNING: /tmp/build/80754af9/xgboost-split_1619724447847/work/src/learner.cc:1061: Starting in XGBoost 1.3.0, the default evaluation metric used with the objective 'binary:logistic' was changed from 'error' to 'logloss'. Explicitly set eval_metric if you'd like to restore the old behavior.\n"
     ]
    }
   ],
   "source": [
    "#https://xgboost.readthedocs.io/en/latest/get_started.html\n",
    "param = {'max_depth': 2, 'eta':1, 'objective':'binary:logistic' }\n",
    "num_round = 2\n",
    "D_train = xgb.DMatrix(X_train, label=y_train)\n",
    "D_test = xgb.DMatrix(X_test, label=y_test)\n",
    "bst = xgb.train(param, D_train)\n",
    "# make prediction\n",
    "filt = 0.5\n",
    "preds =[ 1 if i > filt else 0 for i in  bst.predict(D_test)]\n"
   ]
  },
  {
   "cell_type": "code",
   "execution_count": 66,
   "id": "77e8ba4c-fa02-46f9-b6e7-89379b972029",
   "metadata": {},
   "outputs": [
    {
     "data": {
      "text/plain": [
       "0.47058823529411764"
      ]
     },
     "execution_count": 66,
     "metadata": {},
     "output_type": "execute_result"
    }
   ],
   "source": [
    "metrics.recall_score(y_test, preds)"
   ]
  },
  {
   "cell_type": "code",
   "execution_count": 67,
   "id": "6441c767-d697-4ba7-a2c0-fbed48ee8166",
   "metadata": {},
   "outputs": [
    {
     "name": "stdout",
     "output_type": "stream",
     "text": [
      "[16:42:51] WARNING: /tmp/build/80754af9/xgboost-split_1619724447847/work/src/learner.cc:1061: Starting in XGBoost 1.3.0, the default evaluation metric used with the objective 'binary:logistic' was changed from 'error' to 'logloss'. Explicitly set eval_metric if you'd like to restore the old behavior.\n",
      "0.5098039215686274 0.7307692307692307 2 0 0\n",
      "[16:42:51] WARNING: /tmp/build/80754af9/xgboost-split_1619724447847/work/src/learner.cc:1061: Starting in XGBoost 1.3.0, the default evaluation metric used with the objective 'binary:logistic' was changed from 'error' to 'logloss'. Explicitly set eval_metric if you'd like to restore the old behavior.\n",
      "0.5294117647058824 0.7727272727272727 2 0 0.2\n",
      "[16:42:52] WARNING: /tmp/build/80754af9/xgboost-split_1619724447847/work/src/learner.cc:1061: Starting in XGBoost 1.3.0, the default evaluation metric used with the objective 'binary:logistic' was changed from 'error' to 'logloss'. Explicitly set eval_metric if you'd like to restore the old behavior.\n",
      "0.5294117647058824 0.7692307692307693 2 0 1\n",
      "[16:42:52] WARNING: /tmp/build/80754af9/xgboost-split_1619724447847/work/src/learner.cc:1061: Starting in XGBoost 1.3.0, the default evaluation metric used with the objective 'binary:logistic' was changed from 'error' to 'logloss'. Explicitly set eval_metric if you'd like to restore the old behavior.\n",
      "0.47058823529411764 0.7412587412587412 2 0 2\n",
      "[16:42:52] WARNING: /tmp/build/80754af9/xgboost-split_1619724447847/work/src/learner.cc:1061: Starting in XGBoost 1.3.0, the default evaluation metric used with the objective 'binary:logistic' was changed from 'error' to 'logloss'. Explicitly set eval_metric if you'd like to restore the old behavior.\n",
      "0.5098039215686274 0.7307692307692307 2 0.2 0\n",
      "[16:42:52] WARNING: /tmp/build/80754af9/xgboost-split_1619724447847/work/src/learner.cc:1061: Starting in XGBoost 1.3.0, the default evaluation metric used with the objective 'binary:logistic' was changed from 'error' to 'logloss'. Explicitly set eval_metric if you'd like to restore the old behavior.\n",
      "0.5294117647058824 0.7762237762237763 2 0.2 0.2\n",
      "[16:42:52] WARNING: /tmp/build/80754af9/xgboost-split_1619724447847/work/src/learner.cc:1061: Starting in XGBoost 1.3.0, the default evaluation metric used with the objective 'binary:logistic' was changed from 'error' to 'logloss'. Explicitly set eval_metric if you'd like to restore the old behavior.\n",
      "0.5490196078431373 0.7867132867132867 2 0.2 1\n",
      "[16:42:52] WARNING: /tmp/build/80754af9/xgboost-split_1619724447847/work/src/learner.cc:1061: Starting in XGBoost 1.3.0, the default evaluation metric used with the objective 'binary:logistic' was changed from 'error' to 'logloss'. Explicitly set eval_metric if you'd like to restore the old behavior.\n",
      "0.5098039215686274 0.7272727272727273 2 0.2 2\n",
      "[16:42:52] WARNING: /tmp/build/80754af9/xgboost-split_1619724447847/work/src/learner.cc:1061: Starting in XGBoost 1.3.0, the default evaluation metric used with the objective 'binary:logistic' was changed from 'error' to 'logloss'. Explicitly set eval_metric if you'd like to restore the old behavior.\n",
      "0.47058823529411764 0.7307692307692307 2 1 0\n",
      "[16:42:52] WARNING: /tmp/build/80754af9/xgboost-split_1619724447847/work/src/learner.cc:1061: Starting in XGBoost 1.3.0, the default evaluation metric used with the objective 'binary:logistic' was changed from 'error' to 'logloss'. Explicitly set eval_metric if you'd like to restore the old behavior.\n",
      "0.47058823529411764 0.7307692307692307 2 1 0.2\n",
      "[16:42:52] WARNING: /tmp/build/80754af9/xgboost-split_1619724447847/work/src/learner.cc:1061: Starting in XGBoost 1.3.0, the default evaluation metric used with the objective 'binary:logistic' was changed from 'error' to 'logloss'. Explicitly set eval_metric if you'd like to restore the old behavior.\n",
      "0.5882352941176471 0.7727272727272727 2 1 1\n",
      "[16:42:52] WARNING: /tmp/build/80754af9/xgboost-split_1619724447847/work/src/learner.cc:1061: Starting in XGBoost 1.3.0, the default evaluation metric used with the objective 'binary:logistic' was changed from 'error' to 'logloss'. Explicitly set eval_metric if you'd like to restore the old behavior.\n",
      "0.5098039215686274 0.7867132867132867 2 1 2\n",
      "[16:42:52] WARNING: /tmp/build/80754af9/xgboost-split_1619724447847/work/src/learner.cc:1061: Starting in XGBoost 1.3.0, the default evaluation metric used with the objective 'binary:logistic' was changed from 'error' to 'logloss'. Explicitly set eval_metric if you'd like to restore the old behavior.\n",
      "0.5294117647058824 0.7587412587412588 2 2 0\n",
      "[16:42:52] WARNING: /tmp/build/80754af9/xgboost-split_1619724447847/work/src/learner.cc:1061: Starting in XGBoost 1.3.0, the default evaluation metric used with the objective 'binary:logistic' was changed from 'error' to 'logloss'. Explicitly set eval_metric if you'd like to restore the old behavior.\n",
      "0.5294117647058824 0.7587412587412588 2 2 0.2\n",
      "[16:42:52] WARNING: /tmp/build/80754af9/xgboost-split_1619724447847/work/src/learner.cc:1061: Starting in XGBoost 1.3.0, the default evaluation metric used with the objective 'binary:logistic' was changed from 'error' to 'logloss'. Explicitly set eval_metric if you'd like to restore the old behavior.\n",
      "0.5686274509803921 0.7797202797202797 2 2 1\n",
      "[16:42:52] WARNING: /tmp/build/80754af9/xgboost-split_1619724447847/work/src/learner.cc:1061: Starting in XGBoost 1.3.0, the default evaluation metric used with the objective 'binary:logistic' was changed from 'error' to 'logloss'. Explicitly set eval_metric if you'd like to restore the old behavior.\n",
      "0.6078431372549019 0.7692307692307693 2 2 2\n"
     ]
    }
   ],
   "source": [
    "for max_depth in [2]:\n",
    "    for l in [0,0.2,1,2]:\n",
    "        for a in [0,0.2,1,2]:\n",
    "            param = {'max_depth': max_depth, 'eta':1, 'objective':'binary:logistic', 'alpha':a, 'lambda':l }\n",
    "            bst = xgb.train(param, D_train)\n",
    "            filt = 0.5\n",
    "            preds =[ 1 if i > filt else 0 for i in  bst.predict(D_test)]\n",
    "            print(metrics.recall_score(y_test, preds), metrics.accuracy_score(y_test, preds), max_depth, l, a)"
   ]
  },
  {
   "cell_type": "code",
   "execution_count": null,
   "id": "4ac2aa74-1403-4d2b-aa2c-25e5fb346847",
   "metadata": {},
   "outputs": [],
   "source": []
  },
  {
   "cell_type": "code",
   "execution_count": 68,
   "id": "60b57c85-564f-4963-916c-66e918d56a93",
   "metadata": {},
   "outputs": [
    {
     "name": "stdout",
     "output_type": "stream",
     "text": [
      "[16:42:52] WARNING: /tmp/build/80754af9/xgboost-split_1619724447847/work/src/learner.cc:1061: Starting in XGBoost 1.3.0, the default evaluation metric used with the objective 'binary:logistic' was changed from 'error' to 'logloss'. Explicitly set eval_metric if you'd like to restore the old behavior.\n",
      "0.7254901960784313 0.6853146853146853\n"
     ]
    }
   ],
   "source": [
    "param = {'max_depth': 2, 'eta':1, 'objective':'binary:logistic', 'alpha':0, 'lambda':0 }\n",
    "param = {'max_depth': max_depth, 'eta':1, 'objective':'binary:logistic', 'alpha':a, 'lambda':l }\n",
    "bst = xgb.train(param, D_train)\n",
    "filt = 0.31\n",
    "preds =[ 1 if i > filt else 0 for i in  bst.predict(D_test)]\n",
    "print(metrics.recall_score(y_test, preds), metrics.accuracy_score(y_test, preds))"
   ]
  },
  {
   "cell_type": "code",
   "execution_count": 69,
   "id": "efc0e399-5e2e-4236-acd9-c2455203c0af",
   "metadata": {},
   "outputs": [],
   "source": [
    "bst.save_model('../models/xgb.json')"
   ]
  },
  {
   "cell_type": "code",
   "execution_count": 70,
   "id": "761ad7ee-448c-4584-b47d-cb3faf48916f",
   "metadata": {},
   "outputs": [
    {
     "data": {
      "text/plain": [
       "((1357, 35), (1357,))"
      ]
     },
     "execution_count": 70,
     "metadata": {},
     "output_type": "execute_result"
    }
   ],
   "source": [
    "from sklearn.model_selection import train_test_split\n",
    "\n",
    "df2 = pd.read_csv('../data/attrition-formated.csv')\n",
    "df2.dropna(inplace=True)\n",
    "df2.drop(columns='EmployeeNumber', inplace=True)\n",
    "with open('../pickles/sc.pkl', 'rb') as pickle_in:\n",
    "    sc = pickle.load(pickle_in)\n",
    "df2 = pd.get_dummies(df2, columns = ['EducationField'] )\n",
    "X_train, X_test, y_train, y_test = train_test_split(df2.drop(columns=['Attrition']), df2['Attrition'], stratify = df2['Attrition'])\n",
    "X_train_df = pd.DataFrame(X_train)\n",
    "X_train_df['Attrition'] = y_train\n",
    "\n",
    "recall = 0 \n",
    "acc = 0\n",
    "\n",
    "rs = X_train_df[X_train_df['Attrition'] == 1].sample(500, replace = True)\n",
    "X = pd.concat([X_train_df, rs])\n",
    "y = X['Attrition']\n",
    "X = X.drop(columns=['Attrition'])\n",
    "X_train = sc.fit_transform(rs.drop(columns=['Attrition']))\n",
    "\n",
    "D = xgb.DMatrix(X_train, label = y_train)\n",
    "X.shape, y.shape"
   ]
  },
  {
   "cell_type": "code",
   "execution_count": 86,
   "id": "28c62b0c-8196-40c1-8e6e-80a3f392b2c2",
   "metadata": {},
   "outputs": [
    {
     "name": "stdout",
     "output_type": "stream",
     "text": [
      "[16:47:15] WARNING: /tmp/build/80754af9/xgboost-split_1619724447847/work/src/learner.cc:1061: Starting in XGBoost 1.3.0, the default evaluation metric used with the objective 'binary:logistic' was changed from 'error' to 'logloss'. Explicitly set eval_metric if you'd like to restore the old behavior.\n",
      "0\n",
      "[16:47:15] WARNING: /tmp/build/80754af9/xgboost-split_1619724447847/work/src/learner.cc:1061: Starting in XGBoost 1.3.0, the default evaluation metric used with the objective 'binary:logistic' was changed from 'error' to 'logloss'. Explicitly set eval_metric if you'd like to restore the old behavior.\n",
      "0.49019607843137253\n",
      "[16:47:15] WARNING: /tmp/build/80754af9/xgboost-split_1619724447847/work/src/learner.cc:1061: Starting in XGBoost 1.3.0, the default evaluation metric used with the objective 'binary:logistic' was changed from 'error' to 'logloss'. Explicitly set eval_metric if you'd like to restore the old behavior.\n",
      "0.5490196078431373\n",
      "[16:47:15] WARNING: /tmp/build/80754af9/xgboost-split_1619724447847/work/src/learner.cc:1061: Starting in XGBoost 1.3.0, the default evaluation metric used with the objective 'binary:logistic' was changed from 'error' to 'logloss'. Explicitly set eval_metric if you'd like to restore the old behavior.\n",
      "[16:47:15] WARNING: /tmp/build/80754af9/xgboost-split_1619724447847/work/src/learner.cc:1061: Starting in XGBoost 1.3.0, the default evaluation metric used with the objective 'binary:logistic' was changed from 'error' to 'logloss'. Explicitly set eval_metric if you'd like to restore the old behavior.\n",
      "0.5882352941176471\n",
      "[16:47:16] WARNING: /tmp/build/80754af9/xgboost-split_1619724447847/work/src/learner.cc:1061: Starting in XGBoost 1.3.0, the default evaluation metric used with the objective 'binary:logistic' was changed from 'error' to 'logloss'. Explicitly set eval_metric if you'd like to restore the old behavior.\n",
      "0.6666666666666666\n",
      "[16:47:16] WARNING: /tmp/build/80754af9/xgboost-split_1619724447847/work/src/learner.cc:1061: Starting in XGBoost 1.3.0, the default evaluation metric used with the objective 'binary:logistic' was changed from 'error' to 'logloss'. Explicitly set eval_metric if you'd like to restore the old behavior.\n",
      "[16:47:16] WARNING: /tmp/build/80754af9/xgboost-split_1619724447847/work/src/learner.cc:1061: Starting in XGBoost 1.3.0, the default evaluation metric used with the objective 'binary:logistic' was changed from 'error' to 'logloss'. Explicitly set eval_metric if you'd like to restore the old behavior.\n",
      "0.6862745098039216\n",
      "[16:47:16] WARNING: /tmp/build/80754af9/xgboost-split_1619724447847/work/src/learner.cc:1061: Starting in XGBoost 1.3.0, the default evaluation metric used with the objective 'binary:logistic' was changed from 'error' to 'logloss'. Explicitly set eval_metric if you'd like to restore the old behavior.\n",
      "[16:47:16] WARNING: /tmp/build/80754af9/xgboost-split_1619724447847/work/src/learner.cc:1061: Starting in XGBoost 1.3.0, the default evaluation metric used with the objective 'binary:logistic' was changed from 'error' to 'logloss'. Explicitly set eval_metric if you'd like to restore the old behavior.\n",
      "[16:47:16] WARNING: /tmp/build/80754af9/xgboost-split_1619724447847/work/src/learner.cc:1061: Starting in XGBoost 1.3.0, the default evaluation metric used with the objective 'binary:logistic' was changed from 'error' to 'logloss'. Explicitly set eval_metric if you'd like to restore the old behavior.\n",
      "[16:47:16] WARNING: /tmp/build/80754af9/xgboost-split_1619724447847/work/src/learner.cc:1061: Starting in XGBoost 1.3.0, the default evaluation metric used with the objective 'binary:logistic' was changed from 'error' to 'logloss'. Explicitly set eval_metric if you'd like to restore the old behavior.\n",
      "[16:47:16] WARNING: /tmp/build/80754af9/xgboost-split_1619724447847/work/src/learner.cc:1061: Starting in XGBoost 1.3.0, the default evaluation metric used with the objective 'binary:logistic' was changed from 'error' to 'logloss'. Explicitly set eval_metric if you'd like to restore the old behavior.\n",
      "[16:47:16] WARNING: /tmp/build/80754af9/xgboost-split_1619724447847/work/src/learner.cc:1061: Starting in XGBoost 1.3.0, the default evaluation metric used with the objective 'binary:logistic' was changed from 'error' to 'logloss'. Explicitly set eval_metric if you'd like to restore the old behavior.\n",
      "[16:47:16] WARNING: /tmp/build/80754af9/xgboost-split_1619724447847/work/src/learner.cc:1061: Starting in XGBoost 1.3.0, the default evaluation metric used with the objective 'binary:logistic' was changed from 'error' to 'logloss'. Explicitly set eval_metric if you'd like to restore the old behavior.\n",
      "[16:47:16] WARNING: /tmp/build/80754af9/xgboost-split_1619724447847/work/src/learner.cc:1061: Starting in XGBoost 1.3.0, the default evaluation metric used with the objective 'binary:logistic' was changed from 'error' to 'logloss'. Explicitly set eval_metric if you'd like to restore the old behavior.\n",
      "[16:47:17] WARNING: /tmp/build/80754af9/xgboost-split_1619724447847/work/src/learner.cc:1061: Starting in XGBoost 1.3.0, the default evaluation metric used with the objective 'binary:logistic' was changed from 'error' to 'logloss'. Explicitly set eval_metric if you'd like to restore the old behavior.\n",
      "[16:47:17] WARNING: /tmp/build/80754af9/xgboost-split_1619724447847/work/src/learner.cc:1061: Starting in XGBoost 1.3.0, the default evaluation metric used with the objective 'binary:logistic' was changed from 'error' to 'logloss'. Explicitly set eval_metric if you'd like to restore the old behavior.\n",
      "[16:47:17] WARNING: /tmp/build/80754af9/xgboost-split_1619724447847/work/src/learner.cc:1061: Starting in XGBoost 1.3.0, the default evaluation metric used with the objective 'binary:logistic' was changed from 'error' to 'logloss'. Explicitly set eval_metric if you'd like to restore the old behavior.\n"
     ]
    }
   ],
   "source": [
    "recall = 0 \n",
    "acc = 0\n",
    "sample_rate = 0\n",
    "for i in range(50, 1000, 50): \n",
    "    rs = X_train_df[X_train_df['Attrition'] == 1].sample(i, replace = True)\n",
    "    X = pd.concat([X_train_df, rs])\n",
    "    y = X['Attrition']\n",
    "    X = X.drop(columns=['Attrition'])\n",
    "    X_train = sc.fit_transform(rs.drop(columns=['Attrition']))\n",
    "\n",
    "    D = xgb.DMatrix(X, label = y)\n",
    "    bst = xgb.train(param, D)\n",
    "    evalu = xgb.DMatrix(X_test)\n",
    "    preds = [ 1 if i > filt else 0 for i in  bst.predict(evalu)]\n",
    "    \n",
    "    \n",
    "\n",
    "    if (metrics.recall_score(y_test,preds) > recall) and (metrics.accuracy_score(y_test,preds) >= .68):\n",
    "        print(recall)\n",
    "        recall = metrics.recall_score(y_test, preds)\n",
    "        acc = metrics.accuracy_score(y_test,preds)\n",
    "        sample_rate = i\n"
   ]
  },
  {
   "cell_type": "code",
   "execution_count": 88,
   "id": "34714aa2-4e5b-4f86-af16-bab4550b5ddb",
   "metadata": {},
   "outputs": [
    {
     "data": {
      "text/plain": [
       "(0.7647058823529411, 0.6993006993006993, 400)"
      ]
     },
     "execution_count": 88,
     "metadata": {},
     "output_type": "execute_result"
    }
   ],
   "source": [
    "recall, acc, sample_rate"
   ]
  },
  {
   "cell_type": "code",
   "execution_count": null,
   "id": "72042cc5-f751-4b3b-a0bb-c0ef32376828",
   "metadata": {},
   "outputs": [],
   "source": []
  }
 ],
 "metadata": {
  "kernelspec": {
   "display_name": "Python 3 (ipykernel)",
   "language": "python",
   "name": "python3"
  },
  "language_info": {
   "codemirror_mode": {
    "name": "ipython",
    "version": 3
   },
   "file_extension": ".py",
   "mimetype": "text/x-python",
   "name": "python",
   "nbconvert_exporter": "python",
   "pygments_lexer": "ipython3",
   "version": "3.8.11"
  }
 },
 "nbformat": 4,
 "nbformat_minor": 5
}
