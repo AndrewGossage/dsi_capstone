{
 "cells": [
  {
   "cell_type": "code",
   "execution_count": 3,
   "id": "f6fe1b0a-2697-491d-bfca-96ae260b78a5",
   "metadata": {},
   "outputs": [],
   "source": [
    "import xgboost as xgb\n",
    "from sklearn import metrics\n",
    "import pandas as pd\n",
    "import matplotlib.pyplot as plt\n",
    "import seaborn as sns\n",
    "import pickle"
   ]
  },
  {
   "cell_type": "code",
   "execution_count": 4,
   "id": "f67e0b1c-71bd-4364-b166-6feee4b08224",
   "metadata": {},
   "outputs": [],
   "source": [
    "with open('../pickles/train_test_rs.pkl', 'rb') as pickle_in:\n",
    "    X_train, X_test, y_train, y_test = pickle.load(pickle_in)"
   ]
  },
  {
   "cell_type": "code",
   "execution_count": 18,
   "id": "f5249f27-e16a-4ef4-aacc-1b9a1b2a2f59",
   "metadata": {},
   "outputs": [
    {
     "name": "stdout",
     "output_type": "stream",
     "text": [
      "[22:02:27] WARNING: /tmp/build/80754af9/xgboost-split_1619724447847/work/src/learner.cc:1061: Starting in XGBoost 1.3.0, the default evaluation metric used with the objective 'binary:logistic' was changed from 'error' to 'logloss'. Explicitly set eval_metric if you'd like to restore the old behavior.\n"
     ]
    }
   ],
   "source": [
    "#https://xgboost.readthedocs.io/en/latest/get_started.html\n",
    "param = {'max_depth': 2, 'eta':1, 'objective':'binary:logistic' }\n",
    "num_round = 2\n",
    "D_train = xgb.DMatrix(X_train, label=y_train)\n",
    "D_test = xgb.DMatrix(X_test, label=y_test)\n",
    "bst = xgb.train(param, D_train)\n",
    "# make prediction\n",
    "filt = 0.5\n",
    "preds =[ 1 if i > filt else 0 for i in  bst.predict(D_test)]\n"
   ]
  },
  {
   "cell_type": "code",
   "execution_count": 16,
   "id": "77e8ba4c-fa02-46f9-b6e7-89379b972029",
   "metadata": {},
   "outputs": [
    {
     "data": {
      "text/plain": [
       "0.7058823529411765"
      ]
     },
     "execution_count": 16,
     "metadata": {},
     "output_type": "execute_result"
    }
   ],
   "source": [
    "metrics.recall_score(y_test, preds)"
   ]
  },
  {
   "cell_type": "code",
   "execution_count": 23,
   "id": "6441c767-d697-4ba7-a2c0-fbed48ee8166",
   "metadata": {},
   "outputs": [
    {
     "name": "stdout",
     "output_type": "stream",
     "text": [
      "[22:10:53] WARNING: /tmp/build/80754af9/xgboost-split_1619724447847/work/src/learner.cc:1061: Starting in XGBoost 1.3.0, the default evaluation metric used with the objective 'binary:logistic' was changed from 'error' to 'logloss'. Explicitly set eval_metric if you'd like to restore the old behavior.\n",
      "0.5686274509803921 0.7692307692307693 2 0 0\n",
      "[22:10:54] WARNING: /tmp/build/80754af9/xgboost-split_1619724447847/work/src/learner.cc:1061: Starting in XGBoost 1.3.0, the default evaluation metric used with the objective 'binary:logistic' was changed from 'error' to 'logloss'. Explicitly set eval_metric if you'd like to restore the old behavior.\n",
      "0.5686274509803921 0.7762237762237763 2 0 0.2\n",
      "[22:10:54] WARNING: /tmp/build/80754af9/xgboost-split_1619724447847/work/src/learner.cc:1061: Starting in XGBoost 1.3.0, the default evaluation metric used with the objective 'binary:logistic' was changed from 'error' to 'logloss'. Explicitly set eval_metric if you'd like to restore the old behavior.\n",
      "0.6862745098039216 0.8111888111888111 2 0 1\n",
      "[22:10:54] WARNING: /tmp/build/80754af9/xgboost-split_1619724447847/work/src/learner.cc:1061: Starting in XGBoost 1.3.0, the default evaluation metric used with the objective 'binary:logistic' was changed from 'error' to 'logloss'. Explicitly set eval_metric if you'd like to restore the old behavior.\n",
      "0.6078431372549019 0.7902097902097902 2 0 2\n",
      "[22:10:54] WARNING: /tmp/build/80754af9/xgboost-split_1619724447847/work/src/learner.cc:1061: Starting in XGBoost 1.3.0, the default evaluation metric used with the objective 'binary:logistic' was changed from 'error' to 'logloss'. Explicitly set eval_metric if you'd like to restore the old behavior.\n",
      "0.5882352941176471 0.7867132867132867 2 0.2 0\n",
      "[22:10:54] WARNING: /tmp/build/80754af9/xgboost-split_1619724447847/work/src/learner.cc:1061: Starting in XGBoost 1.3.0, the default evaluation metric used with the objective 'binary:logistic' was changed from 'error' to 'logloss'. Explicitly set eval_metric if you'd like to restore the old behavior.\n",
      "0.5882352941176471 0.7867132867132867 2 0.2 0.2\n",
      "[22:10:54] WARNING: /tmp/build/80754af9/xgboost-split_1619724447847/work/src/learner.cc:1061: Starting in XGBoost 1.3.0, the default evaluation metric used with the objective 'binary:logistic' was changed from 'error' to 'logloss'. Explicitly set eval_metric if you'd like to restore the old behavior.\n",
      "0.6862745098039216 0.8111888111888111 2 0.2 1\n",
      "[22:10:54] WARNING: /tmp/build/80754af9/xgboost-split_1619724447847/work/src/learner.cc:1061: Starting in XGBoost 1.3.0, the default evaluation metric used with the objective 'binary:logistic' was changed from 'error' to 'logloss'. Explicitly set eval_metric if you'd like to restore the old behavior.\n",
      "0.6078431372549019 0.8111888111888111 2 0.2 2\n",
      "[22:10:54] WARNING: /tmp/build/80754af9/xgboost-split_1619724447847/work/src/learner.cc:1061: Starting in XGBoost 1.3.0, the default evaluation metric used with the objective 'binary:logistic' was changed from 'error' to 'logloss'. Explicitly set eval_metric if you'd like to restore the old behavior.\n",
      "0.7058823529411765 0.8006993006993007 2 1 0\n",
      "[22:10:54] WARNING: /tmp/build/80754af9/xgboost-split_1619724447847/work/src/learner.cc:1061: Starting in XGBoost 1.3.0, the default evaluation metric used with the objective 'binary:logistic' was changed from 'error' to 'logloss'. Explicitly set eval_metric if you'd like to restore the old behavior.\n",
      "0.5686274509803921 0.7972027972027972 2 1 0.2\n",
      "[22:10:54] WARNING: /tmp/build/80754af9/xgboost-split_1619724447847/work/src/learner.cc:1061: Starting in XGBoost 1.3.0, the default evaluation metric used with the objective 'binary:logistic' was changed from 'error' to 'logloss'. Explicitly set eval_metric if you'd like to restore the old behavior.\n",
      "0.5882352941176471 0.8041958041958042 2 1 1\n",
      "[22:10:54] WARNING: /tmp/build/80754af9/xgboost-split_1619724447847/work/src/learner.cc:1061: Starting in XGBoost 1.3.0, the default evaluation metric used with the objective 'binary:logistic' was changed from 'error' to 'logloss'. Explicitly set eval_metric if you'd like to restore the old behavior.\n",
      "0.6274509803921569 0.8076923076923077 2 1 2\n",
      "[22:10:54] WARNING: /tmp/build/80754af9/xgboost-split_1619724447847/work/src/learner.cc:1061: Starting in XGBoost 1.3.0, the default evaluation metric used with the objective 'binary:logistic' was changed from 'error' to 'logloss'. Explicitly set eval_metric if you'd like to restore the old behavior.\n",
      "0.5882352941176471 0.8006993006993007 2 2 0\n",
      "[22:10:54] WARNING: /tmp/build/80754af9/xgboost-split_1619724447847/work/src/learner.cc:1061: Starting in XGBoost 1.3.0, the default evaluation metric used with the objective 'binary:logistic' was changed from 'error' to 'logloss'. Explicitly set eval_metric if you'd like to restore the old behavior.\n",
      "0.5882352941176471 0.8041958041958042 2 2 0.2\n",
      "[22:10:54] WARNING: /tmp/build/80754af9/xgboost-split_1619724447847/work/src/learner.cc:1061: Starting in XGBoost 1.3.0, the default evaluation metric used with the objective 'binary:logistic' was changed from 'error' to 'logloss'. Explicitly set eval_metric if you'd like to restore the old behavior.\n",
      "0.6274509803921569 0.8181818181818182 2 2 1\n",
      "[22:10:55] WARNING: /tmp/build/80754af9/xgboost-split_1619724447847/work/src/learner.cc:1061: Starting in XGBoost 1.3.0, the default evaluation metric used with the objective 'binary:logistic' was changed from 'error' to 'logloss'. Explicitly set eval_metric if you'd like to restore the old behavior.\n",
      "0.6470588235294118 0.7867132867132867 2 2 2\n"
     ]
    }
   ],
   "source": [
    "for max_depth in [2]:\n",
    "    for l in [0,0.2,1,2]:\n",
    "        for a in [0,0.2,1,2]:\n",
    "            param = {'max_depth': max_depth, 'eta':1, 'objective':'binary:logistic', 'alpha':a, 'lambda':l }\n",
    "            bst = xgb.train(param, D_train)\n",
    "            filt = 0.5\n",
    "            preds =[ 1 if i > filt else 0 for i in  bst.predict(D_test)]\n",
    "            print(metrics.recall_score(y_test, preds), metrics.accuracy_score(y_test, preds), max_depth, l, a)"
   ]
  },
  {
   "cell_type": "code",
   "execution_count": 38,
   "id": "60b57c85-564f-4963-916c-66e918d56a93",
   "metadata": {},
   "outputs": [
    {
     "name": "stdout",
     "output_type": "stream",
     "text": [
      "[22:13:12] WARNING: /tmp/build/80754af9/xgboost-split_1619724447847/work/src/learner.cc:1061: Starting in XGBoost 1.3.0, the default evaluation metric used with the objective 'binary:logistic' was changed from 'error' to 'logloss'. Explicitly set eval_metric if you'd like to restore the old behavior.\n",
      "0.7450980392156863 0.7202797202797203\n"
     ]
    }
   ],
   "source": [
    "param = {'max_depth': 2, 'eta':1, 'objective':'binary:logistic', 'alpha':0, 'lambda':0 }\n",
    "param = {'max_depth': max_depth, 'eta':1, 'objective':'binary:logistic', 'alpha':a, 'lambda':l }\n",
    "bst = xgb.train(param, D_train)\n",
    "filt = 0.35\n",
    "preds =[ 1 if i > filt else 0 for i in  bst.predict(D_test)]\n",
    "print(metrics.recall_score(y_test, preds), metrics.accuracy_score(y_test, preds))"
   ]
  },
  {
   "cell_type": "code",
   "execution_count": 39,
   "id": "efc0e399-5e2e-4236-acd9-c2455203c0af",
   "metadata": {},
   "outputs": [],
   "source": [
    "bst.save_model('../models/xgb.json')"
   ]
  }
 ],
 "metadata": {
  "kernelspec": {
   "display_name": "Python 3",
   "language": "python",
   "name": "python3"
  },
  "language_info": {
   "codemirror_mode": {
    "name": "ipython",
    "version": 3
   },
   "file_extension": ".py",
   "mimetype": "text/x-python",
   "name": "python",
   "nbconvert_exporter": "python",
   "pygments_lexer": "ipython3",
   "version": "3.8.11"
  }
 },
 "nbformat": 4,
 "nbformat_minor": 5
}
