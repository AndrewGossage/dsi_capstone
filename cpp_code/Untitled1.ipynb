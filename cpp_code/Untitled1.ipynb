{
 "cells": [
  {
   "cell_type": "code",
   "execution_count": 1,
   "id": "dc0957b4-30f1-4fb6-9af6-02af2f7c9f3a",
   "metadata": {},
   "outputs": [],
   "source": [
    "import cgoss"
   ]
  },
  {
   "cell_type": "code",
   "execution_count": 4,
   "id": "1816ad85-9e77-42c7-aa7d-90d080bc1398",
   "metadata": {},
   "outputs": [
    {
     "data": {
      "text/plain": [
       "0.8999999761581421"
      ]
     },
     "execution_count": 4,
     "metadata": {},
     "output_type": "execute_result"
    }
   ],
   "source": [
    "cgoss.max_distance(0.9,0.1)"
   ]
  },
  {
   "cell_type": "code",
   "execution_count": 3,
   "id": "d81589c8-ecd4-4beb-880f-b45a58124a8c",
   "metadata": {},
   "outputs": [
    {
     "data": {
      "text/plain": [
       "0.9"
      ]
     },
     "execution_count": 3,
     "metadata": {},
     "output_type": "execute_result"
    }
   ],
   "source": [
    "def maxd(a, b, c = 0.5, scale = 1.0):\n",
    "    if (a < c): \n",
    "        a2 = abs((scale - a) - c);\n",
    "    else:\n",
    "        a2 =a - c;\n",
    "    if (b < c): \n",
    "        b2 = abs((scale - b) - c);\n",
    "    else:\n",
    "        b2 = b - c;\n",
    "    \n",
    "    if (b2 > a2):\n",
    "        return b;\n",
    "    \n",
    "    \n",
    "    return a;  \n",
    "\n",
    "\n",
    "maxd(.3,.9)"
   ]
  }
 ],
 "metadata": {
  "kernelspec": {
   "display_name": "Python 3 (ipykernel)",
   "language": "python",
   "name": "python3"
  },
  "language_info": {
   "codemirror_mode": {
    "name": "ipython",
    "version": 3
   },
   "file_extension": ".py",
   "mimetype": "text/x-python",
   "name": "python",
   "nbconvert_exporter": "python",
   "pygments_lexer": "ipython3",
   "version": "3.8.11"
  }
 },
 "nbformat": 4,
 "nbformat_minor": 5
}
